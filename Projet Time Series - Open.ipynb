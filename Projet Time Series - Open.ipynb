{
 "cells": [
  {
   "cell_type": "markdown",
   "id": "8ae5a3e0",
   "metadata": {
    "heading_collapsed": true
   },
   "source": [
    "# 📈 Prédire la valeur de l’action Google dans le futur"
   ]
  },
  {
   "cell_type": "markdown",
   "id": "f071ae0b",
   "metadata": {
    "code_folding": [],
    "hidden": true
   },
   "source": [
    "**Contexte :** <blockquote> Vous êtes datascientist chez Google en charge d'un nouveau projet autour de TimeSeries. Votre premier projet consiste à proposer une solution permettant de prédire la tendance de l'action Google dans le futur et de former une nouvelle équipe de datascientists (juniors) sur les RNN et en particulier les LSTM.\n",
    "\n",
    "    \n",
    "Pour réaliser ce projet, vous avez accés à deux datasets :\n",
    "* Dataset Train : 5 années d’historique de l’action google 2012 - 2016\n",
    "* Dataset Test : un mois de données Janvier 2017\n",
    "\n",
    "Développer une solution basée sur les réseaux de neurones récurrents de type LSTM et permettant de prédire l'action Google dans le futur</blockquote> "
   ]
  },
  {
   "cell_type": "markdown",
   "id": "b3ac9b69",
   "metadata": {
    "heading_collapsed": true
   },
   "source": [
    "# 👩🏻‍💻 Exploration des données"
   ]
  },
  {
   "cell_type": "markdown",
   "id": "aacfbfa7",
   "metadata": {
    "hidden": true
   },
   "source": [
    "## Imports"
   ]
  },
  {
   "cell_type": "markdown",
   "id": "0301b4d1",
   "metadata": {
    "hidden": true
   },
   "source": [
    "🔎 Import Librairies"
   ]
  },
  {
   "cell_type": "code",
   "execution_count": 1,
   "id": "e1e0f46f",
   "metadata": {
    "hidden": true
   },
   "outputs": [],
   "source": [
    "import pandas as pd\n",
    "import numpy as np\n",
    "import seaborn as sns\n",
    "import matplotlib.pyplot as plt"
   ]
  },
  {
   "cell_type": "markdown",
   "id": "06c66670",
   "metadata": {
    "hidden": true
   },
   "source": [
    "🔎 Import Dataset"
   ]
  },
  {
   "cell_type": "code",
   "execution_count": 2,
   "id": "627741d6",
   "metadata": {
    "hidden": true
   },
   "outputs": [
    {
     "data": {
      "text/html": [
       "<div>\n",
       "<style scoped>\n",
       "    .dataframe tbody tr th:only-of-type {\n",
       "        vertical-align: middle;\n",
       "    }\n",
       "\n",
       "    .dataframe tbody tr th {\n",
       "        vertical-align: top;\n",
       "    }\n",
       "\n",
       "    .dataframe thead th {\n",
       "        text-align: right;\n",
       "    }\n",
       "</style>\n",
       "<table border=\"1\" class=\"dataframe\">\n",
       "  <thead>\n",
       "    <tr style=\"text-align: right;\">\n",
       "      <th></th>\n",
       "      <th>Open</th>\n",
       "      <th>High</th>\n",
       "      <th>Low</th>\n",
       "      <th>Close</th>\n",
       "      <th>Volume</th>\n",
       "    </tr>\n",
       "    <tr>\n",
       "      <th>Date</th>\n",
       "      <th></th>\n",
       "      <th></th>\n",
       "      <th></th>\n",
       "      <th></th>\n",
       "      <th></th>\n",
       "    </tr>\n",
       "  </thead>\n",
       "  <tbody>\n",
       "    <tr>\n",
       "      <th>2012-01-03</th>\n",
       "      <td>325.25</td>\n",
       "      <td>332.83</td>\n",
       "      <td>324.97</td>\n",
       "      <td>663.59</td>\n",
       "      <td>7,380,500</td>\n",
       "    </tr>\n",
       "    <tr>\n",
       "      <th>2012-01-04</th>\n",
       "      <td>331.27</td>\n",
       "      <td>333.87</td>\n",
       "      <td>329.08</td>\n",
       "      <td>666.45</td>\n",
       "      <td>5,749,400</td>\n",
       "    </tr>\n",
       "    <tr>\n",
       "      <th>2012-01-05</th>\n",
       "      <td>329.83</td>\n",
       "      <td>330.75</td>\n",
       "      <td>326.89</td>\n",
       "      <td>657.21</td>\n",
       "      <td>6,590,300</td>\n",
       "    </tr>\n",
       "    <tr>\n",
       "      <th>2012-01-06</th>\n",
       "      <td>328.34</td>\n",
       "      <td>328.77</td>\n",
       "      <td>323.68</td>\n",
       "      <td>648.24</td>\n",
       "      <td>5,405,900</td>\n",
       "    </tr>\n",
       "    <tr>\n",
       "      <th>2012-01-09</th>\n",
       "      <td>322.04</td>\n",
       "      <td>322.29</td>\n",
       "      <td>309.46</td>\n",
       "      <td>620.76</td>\n",
       "      <td>11,688,800</td>\n",
       "    </tr>\n",
       "  </tbody>\n",
       "</table>\n",
       "</div>"
      ],
      "text/plain": [
       "              Open    High     Low   Close      Volume\n",
       "Date                                                  \n",
       "2012-01-03  325.25  332.83  324.97  663.59   7,380,500\n",
       "2012-01-04  331.27  333.87  329.08  666.45   5,749,400\n",
       "2012-01-05  329.83  330.75  326.89  657.21   6,590,300\n",
       "2012-01-06  328.34  328.77  323.68  648.24   5,405,900\n",
       "2012-01-09  322.04  322.29  309.46  620.76  11,688,800"
      ]
     },
     "execution_count": 2,
     "metadata": {},
     "output_type": "execute_result"
    }
   ],
   "source": [
    "df = pd.read_csv('C:/Users/zaome/Documents/Week_formation/Projet_TimeSerie/Google_Stock_Price_Train.csv', index_col='Date', parse_dates=['Date'])\n",
    "df.head()"
   ]
  },
  {
   "cell_type": "code",
   "execution_count": 3,
   "id": "9f2b85ef",
   "metadata": {
    "hidden": true
   },
   "outputs": [],
   "source": [
    "#df = pd.read_csv?\n",
    "#df"
   ]
  },
  {
   "cell_type": "markdown",
   "id": "e6ac3fca",
   "metadata": {
    "hidden": true
   },
   "source": [
    "## Informations des données"
   ]
  },
  {
   "cell_type": "code",
   "execution_count": 4,
   "id": "0086188e",
   "metadata": {
    "hidden": true
   },
   "outputs": [
    {
     "data": {
      "text/plain": [
       "(1258, 5)"
      ]
     },
     "execution_count": 4,
     "metadata": {},
     "output_type": "execute_result"
    }
   ],
   "source": [
    "df.shape"
   ]
  },
  {
   "cell_type": "markdown",
   "id": "2c69238e",
   "metadata": {
    "hidden": true
   },
   "source": [
    "🔎 Data Information"
   ]
  },
  {
   "cell_type": "code",
   "execution_count": 5,
   "id": "6166e317",
   "metadata": {
    "hidden": true
   },
   "outputs": [
    {
     "name": "stdout",
     "output_type": "stream",
     "text": [
      "<class 'pandas.core.frame.DataFrame'>\n",
      "DatetimeIndex: 1258 entries, 2012-01-03 to 2016-12-30\n",
      "Data columns (total 5 columns):\n",
      " #   Column  Non-Null Count  Dtype  \n",
      "---  ------  --------------  -----  \n",
      " 0   Open    1258 non-null   float64\n",
      " 1   High    1258 non-null   float64\n",
      " 2   Low     1258 non-null   float64\n",
      " 3   Close   1258 non-null   object \n",
      " 4   Volume  1258 non-null   object \n",
      "dtypes: float64(3), object(2)\n",
      "memory usage: 59.0+ KB\n"
     ]
    }
   ],
   "source": [
    "df.info()"
   ]
  },
  {
   "cell_type": "markdown",
   "id": "18209c5f",
   "metadata": {
    "hidden": true
   },
   "source": [
    "🔎 Data Descriptive"
   ]
  },
  {
   "cell_type": "code",
   "execution_count": 6,
   "id": "59ab3513",
   "metadata": {
    "hidden": true
   },
   "outputs": [
    {
     "data": {
      "text/html": [
       "<div>\n",
       "<style scoped>\n",
       "    .dataframe tbody tr th:only-of-type {\n",
       "        vertical-align: middle;\n",
       "    }\n",
       "\n",
       "    .dataframe tbody tr th {\n",
       "        vertical-align: top;\n",
       "    }\n",
       "\n",
       "    .dataframe thead th {\n",
       "        text-align: right;\n",
       "    }\n",
       "</style>\n",
       "<table border=\"1\" class=\"dataframe\">\n",
       "  <thead>\n",
       "    <tr style=\"text-align: right;\">\n",
       "      <th></th>\n",
       "      <th>Open</th>\n",
       "      <th>High</th>\n",
       "      <th>Low</th>\n",
       "    </tr>\n",
       "  </thead>\n",
       "  <tbody>\n",
       "    <tr>\n",
       "      <th>count</th>\n",
       "      <td>1258.000000</td>\n",
       "      <td>1258.000000</td>\n",
       "      <td>1258.000000</td>\n",
       "    </tr>\n",
       "    <tr>\n",
       "      <th>mean</th>\n",
       "      <td>533.709833</td>\n",
       "      <td>537.880223</td>\n",
       "      <td>529.007409</td>\n",
       "    </tr>\n",
       "    <tr>\n",
       "      <th>std</th>\n",
       "      <td>151.904442</td>\n",
       "      <td>153.008811</td>\n",
       "      <td>150.552807</td>\n",
       "    </tr>\n",
       "    <tr>\n",
       "      <th>min</th>\n",
       "      <td>279.120000</td>\n",
       "      <td>281.210000</td>\n",
       "      <td>277.220000</td>\n",
       "    </tr>\n",
       "    <tr>\n",
       "      <th>25%</th>\n",
       "      <td>404.115000</td>\n",
       "      <td>406.765000</td>\n",
       "      <td>401.765000</td>\n",
       "    </tr>\n",
       "    <tr>\n",
       "      <th>50%</th>\n",
       "      <td>537.470000</td>\n",
       "      <td>540.750000</td>\n",
       "      <td>532.990000</td>\n",
       "    </tr>\n",
       "    <tr>\n",
       "      <th>75%</th>\n",
       "      <td>654.922500</td>\n",
       "      <td>662.587500</td>\n",
       "      <td>644.800000</td>\n",
       "    </tr>\n",
       "    <tr>\n",
       "      <th>max</th>\n",
       "      <td>816.680000</td>\n",
       "      <td>816.680000</td>\n",
       "      <td>805.140000</td>\n",
       "    </tr>\n",
       "  </tbody>\n",
       "</table>\n",
       "</div>"
      ],
      "text/plain": [
       "              Open         High          Low\n",
       "count  1258.000000  1258.000000  1258.000000\n",
       "mean    533.709833   537.880223   529.007409\n",
       "std     151.904442   153.008811   150.552807\n",
       "min     279.120000   281.210000   277.220000\n",
       "25%     404.115000   406.765000   401.765000\n",
       "50%     537.470000   540.750000   532.990000\n",
       "75%     654.922500   662.587500   644.800000\n",
       "max     816.680000   816.680000   805.140000"
      ]
     },
     "execution_count": 6,
     "metadata": {},
     "output_type": "execute_result"
    }
   ],
   "source": [
    "df.describe()"
   ]
  },
  {
   "cell_type": "markdown",
   "id": "0627320e",
   "metadata": {
    "hidden": true
   },
   "source": [
    "🔎 Types de données"
   ]
  },
  {
   "cell_type": "code",
   "execution_count": 7,
   "id": "b225af16",
   "metadata": {
    "hidden": true
   },
   "outputs": [
    {
     "data": {
      "text/plain": [
       "float64    3\n",
       "object     2\n",
       "dtype: int64"
      ]
     },
     "execution_count": 7,
     "metadata": {},
     "output_type": "execute_result"
    }
   ],
   "source": [
    "df.dtypes.value_counts()"
   ]
  },
  {
   "cell_type": "code",
   "execution_count": 8,
   "id": "7179e92a",
   "metadata": {
    "hidden": true
   },
   "outputs": [
    {
     "data": {
      "text/plain": [
       "Open      float64\n",
       "High      float64\n",
       "Low       float64\n",
       "Close      object\n",
       "Volume     object\n",
       "dtype: object"
      ]
     },
     "execution_count": 8,
     "metadata": {},
     "output_type": "execute_result"
    }
   ],
   "source": [
    "df.dtypes"
   ]
  },
  {
   "cell_type": "markdown",
   "id": "06e3dc02",
   "metadata": {
    "hidden": true
   },
   "source": [
    "🔎 Valeurs manquantes"
   ]
  },
  {
   "cell_type": "code",
   "execution_count": 9,
   "id": "f9409ac1",
   "metadata": {
    "hidden": true
   },
   "outputs": [
    {
     "data": {
      "text/plain": [
       "Open      0\n",
       "High      0\n",
       "Low       0\n",
       "Close     0\n",
       "Volume    0\n",
       "dtype: int64"
      ]
     },
     "execution_count": 9,
     "metadata": {},
     "output_type": "execute_result"
    }
   ],
   "source": [
    "df.isnull().sum().sort_values()"
   ]
  },
  {
   "cell_type": "markdown",
   "id": "a9a4ff9d",
   "metadata": {
    "hidden": true
   },
   "source": [
    "🔎 Duplicates"
   ]
  },
  {
   "cell_type": "code",
   "execution_count": 10,
   "id": "7b53c851",
   "metadata": {
    "hidden": true
   },
   "outputs": [
    {
     "data": {
      "text/plain": [
       "0"
      ]
     },
     "execution_count": 10,
     "metadata": {},
     "output_type": "execute_result"
    }
   ],
   "source": [
    "df.duplicated().sum()"
   ]
  },
  {
   "cell_type": "markdown",
   "id": "39f65537",
   "metadata": {},
   "source": [
    "# 🎨 Visualisations"
   ]
  },
  {
   "cell_type": "code",
   "execution_count": 11,
   "id": "889dd068",
   "metadata": {},
   "outputs": [
    {
     "data": {
      "image/png": "[encoded data removed]",
      "text/plain": [
       "<Figure size 576x576 with 3 Axes>"
      ]
     },
     "metadata": {
      "needs_background": "light"
     },
     "output_type": "display_data"
    }
   ],
   "source": [
    "df.plot(subplots=True, figsize=(8,8))\n",
    "plt.title('Google stock attributes from 2012 to 2017')\n",
    "plt.show()"
   ]
  },
  {
   "cell_type": "markdown",
   "id": "4549dcce",
   "metadata": {},
   "source": [
    "**On observe une certaine tendance qui augmente au cours du temps. Nous allons travailler sur la recherche de sa trend de 'Open'.**"
   ]
  },
  {
   "cell_type": "code",
   "execution_count": null,
   "id": "6012f09c",
   "metadata": {},
   "outputs": [],
   "source": [
    "plt.figure(figsize=(9,6))\n",
    "\n",
    "moving_average = df['Open'].rolling(\n",
    "    window=365,       # 365-day window\n",
    "    center=True,      # puts the average at the center of the window\n",
    "    min_periods=183,  # choose about half the window size\n",
    ").mean()              # compute the mean (could also do median, std, min, max, ...)\n",
    "\n",
    "ax = df['Open'].plot(style=\".\", color=\"0.5\")\n",
    "moving_average.plot(\n",
    "    ax=ax, linewidth=3, title=\"Tunnel Traffic - 365-Day Moving Average\", legend=False,\n",
    ");"
   ]
  },
  {
   "cell_type": "markdown",
   "id": "296fd093",
   "metadata": {},
   "source": [
    "**On observe deux allures différentes :**\n",
    "-  Soi une croissance assez élevée\n",
    "-  Soi une période où les actions stagnent/croissance basse\n",
    "\n",
    "**Il semblerait que l'on soit actuellement dans une période avec une croissance basse.**"
   ]
  },
  {
   "cell_type": "markdown",
   "id": "8b852f5e",
   "metadata": {},
   "source": [
    "# 🌌Preprocessing"
   ]
  },
  {
   "cell_type": "markdown",
   "id": "2f47eb90",
   "metadata": {},
   "source": [
    "## Import librairies"
   ]
  },
  {
   "cell_type": "code",
   "execution_count": 12,
   "id": "b087e4bf",
   "metadata": {},
   "outputs": [],
   "source": [
    "#Preprocess\n",
    "from sklearn.model_selection import train_test_split\n",
    "from sklearn.preprocessing import MinMaxScaler\n",
    "#Modèle\n",
    "from keras.models import Sequential\n",
    "from tensorflow.keras.layers import  LSTM, Dense, Dropout\n",
    "from tensorflow.keras.metrics import Accuracy"
   ]
  },
  {
   "cell_type": "markdown",
   "id": "cd4687a6",
   "metadata": {},
   "source": [
    "## Normalisation"
   ]
  },
  {
   "cell_type": "markdown",
   "id": "c8222397",
   "metadata": {},
   "source": [
    "**Nous nous concentrons uniquement sur le prix d’ouverture de l’action 'Open', et nous prendrons pas en concidération les colonnes qui n’ont pas d’impact sur notre valeur prédite.** "
   ]
  },
  {
   "cell_type": "code",
   "execution_count": 13,
   "id": "913d76dd",
   "metadata": {},
   "outputs": [],
   "source": [
    "training_set = df.iloc[:,1:2].values"
   ]
  },
  {
   "cell_type": "markdown",
   "id": "af2e7f82",
   "metadata": {},
   "source": [
    "**Afin d’obtenir toutes ces valeurs entre la plage de 0 à 1, nous utiliserons le MinMaxScaler. La valeur minimale serait 0 et la valeur maximale serait 1. La mise à l’échelle raccourcit le temps d’exécution, tout en réduisant l’erreur.**"
   ]
  },
  {
   "cell_type": "code",
   "execution_count": 14,
   "id": "9bd2218b",
   "metadata": {},
   "outputs": [],
   "source": [
    "sc = MinMaxScaler(feature_range = (0, 1))\n",
    "training_set_scaled = sc.fit_transform(training_set)"
   ]
  },
  {
   "cell_type": "markdown",
   "id": "0b171728",
   "metadata": {},
   "source": [
    "## Echantillonnage"
   ]
  },
  {
   "cell_type": "markdown",
   "id": "c777cf74",
   "metadata": {},
   "source": [
    "**Nous allons entraîner ce modèle dans des données de 60 jours à la fois donc nous allons diviser les données en morceaux de 60 lignes.**"
   ]
  },
  {
   "cell_type": "markdown",
   "id": "2f0f8420",
   "metadata": {},
   "source": [
    "**Dans la boucle for les données commencent à 60 jours et le code s'exécute jusqu’à 1258. Il commencera à partir de [i-60] et ira jusqu’à ce que i soit réellement égal à 60. Les paramètres seront [i,0] dans ce cas, ce qui indique le cours de l’action au 60ème jour.**"
   ]
  },
  {
   "cell_type": "code",
   "execution_count": 15,
   "id": "0c8f5229",
   "metadata": {},
   "outputs": [
    {
     "data": {
      "text/plain": [
       "1258"
      ]
     },
     "execution_count": 15,
     "metadata": {},
     "output_type": "execute_result"
    }
   ],
   "source": [
    "df.shape[0]"
   ]
  },
  {
   "cell_type": "code",
   "execution_count": 16,
   "id": "c3840acd",
   "metadata": {},
   "outputs": [],
   "source": [
    "X_train=[]\n",
    "y_train=[]\n",
    "for i in range(60, 1258):\n",
    "    X_train.append(training_set_scaled[i-60:i,0])\n",
    "    y_train.append(training_set_scaled[i,0])\n",
    "X_train, y_train = np.array(X_train), np.array(y_train)"
   ]
  },
  {
   "cell_type": "code",
   "execution_count": 17,
   "id": "5c3bbbcb",
   "metadata": {},
   "outputs": [
    {
     "data": {
      "text/plain": [
       "(1258, 1)"
      ]
     },
     "execution_count": 17,
     "metadata": {},
     "output_type": "execute_result"
    }
   ],
   "source": [
    "training_set_scaled.shape"
   ]
  },
  {
   "cell_type": "markdown",
   "id": "c2885d61",
   "metadata": {},
   "source": [
    "**Faire un reshape pour stocké les données x_train et y_train dans 2 tableaux numériques différents.**"
   ]
  },
  {
   "cell_type": "code",
   "execution_count": 18,
   "id": "7a88d2f2",
   "metadata": {},
   "outputs": [],
   "source": [
    "X_train = np.reshape(X_train, (X_train.shape[0], X_train.shape[1], 1))"
   ]
  },
  {
   "cell_type": "code",
   "execution_count": 19,
   "id": "0079ade8",
   "metadata": {},
   "outputs": [
    {
     "data": {
      "text/plain": [
       "(1198, 60, 1)"
      ]
     },
     "execution_count": 19,
     "metadata": {},
     "output_type": "execute_result"
    }
   ],
   "source": [
    "X_train.shape"
   ]
  },
  {
   "cell_type": "code",
   "execution_count": 20,
   "id": "a420049d",
   "metadata": {},
   "outputs": [
    {
     "data": {
      "text/plain": [
       "(1198,)"
      ]
     },
     "execution_count": 20,
     "metadata": {},
     "output_type": "execute_result"
    }
   ],
   "source": [
    "y_train.shape"
   ]
  },
  {
   "cell_type": "markdown",
   "id": "7b1da621",
   "metadata": {},
   "source": [
    "# 🔢 Modèles LSTM"
   ]
  },
  {
   "cell_type": "markdown",
   "id": "57840469",
   "metadata": {},
   "source": [
    "## Couches"
   ]
  },
  {
   "cell_type": "markdown",
   "id": "bcabd40d",
   "metadata": {},
   "source": [
    "4 techniques pour éviter l'overfiting :\n",
    "* Early stopping\n",
    "* Regularisation\n",
    "* Data augmentation (CNN)\n",
    "* Simplifier l'architecture du réseau"
   ]
  },
  {
   "cell_type": "code",
   "execution_count": 21,
   "id": "bc1c78ff",
   "metadata": {},
   "outputs": [],
   "source": [
    "regressor = Sequential()"
   ]
  },
  {
   "cell_type": "markdown",
   "id": "110ab55b",
   "metadata": {},
   "source": [
    "* La **return_sequences** est définie sur True, afin de renvoyer la séquence complète dans la sortie. \n",
    "* Pour une seule couche, les dimensions seraient de 60 par 5. Chaque ligne a une forme de 60 par 5 pour la longueur du jeu de données d’apprentissage.\n",
    "* Rajouter le **Dropout** si ça Overfit : il désactive aléatoirement un pourcentage de couche"
   ]
  },
  {
   "cell_type": "code",
   "execution_count": 22,
   "id": "668f97a0",
   "metadata": {},
   "outputs": [],
   "source": [
    "regressor.add(LSTM(units=60,return_sequences=True,input_shape=(X_train.shape[1], 1)))\n",
    "regressor.add(Dropout(0.3))"
   ]
  },
  {
   "cell_type": "code",
   "execution_count": 23,
   "id": "c8732b9c",
   "metadata": {},
   "outputs": [],
   "source": [
    "regressor.add(LSTM(units=60,return_sequences=True))\n",
    "regressor.add(Dropout(0.3))"
   ]
  },
  {
   "cell_type": "code",
   "execution_count": 24,
   "id": "c9bd87e6",
   "metadata": {},
   "outputs": [],
   "source": [
    "regressor.add(LSTM(units=80,return_sequences=True))\n",
    "regressor.add(Dropout(0.3))"
   ]
  },
  {
   "cell_type": "code",
   "execution_count": 25,
   "id": "dd590408",
   "metadata": {},
   "outputs": [],
   "source": [
    "regressor.add(LSTM(units=100))\n",
    "regressor.add(Dropout(0.3))"
   ]
  },
  {
   "cell_type": "markdown",
   "id": "dc96e2b6",
   "metadata": {},
   "source": [
    "**En ajoutant la couche Dense, nous affirmons simplement que les neurones de cette couche sont entièrement connectés aux neurones de la couche précédente.**"
   ]
  },
  {
   "cell_type": "code",
   "execution_count": 26,
   "id": "afcc0de4",
   "metadata": {},
   "outputs": [],
   "source": [
    "regressor.add(Dense(units = 1))"
   ]
  },
  {
   "cell_type": "markdown",
   "id": "fea2315f",
   "metadata": {},
   "source": [
    "## Modèle"
   ]
  },
  {
   "cell_type": "markdown",
   "id": "ed3d0626",
   "metadata": {},
   "source": [
    "**On compile le modèle en utlisant l'optimisation 'adam' pour l formation du modèle. Et la fonction de perte sera l’erreur quadratique moyenne, 'mean_squared_error', comparant les valeurs observées aux valeurs prédites.**"
   ]
  },
  {
   "cell_type": "code",
   "execution_count": 27,
   "id": "a8dbf88d",
   "metadata": {},
   "outputs": [],
   "source": [
    "regressor.compile(optimizer='adam', loss='mean_squared_error')"
   ]
  },
  {
   "cell_type": "markdown",
   "id": "af91a794",
   "metadata": {},
   "source": [
    "**Nous utiliserons 40 époques pour former ce modèle. Et un batch_size de 32, qui indique le nombre d’échantillons d’entraînement utilisés pour chaque itération via le réseau neuronal.**"
   ]
  },
  {
   "cell_type": "code",
   "execution_count": 28,
   "id": "9c3d52c3",
   "metadata": {
    "scrolled": true
   },
   "outputs": [
    {
     "name": "stdout",
     "output_type": "stream",
     "text": [
      "Epoch 1/50\n",
      "30/30 [==============================] - 74s 1s/step - loss: 0.0231 - val_loss: 0.0114\n",
      "Epoch 2/50\n",
      "30/30 [==============================] - 34s 1s/step - loss: 0.0049 - val_loss: 0.0034\n",
      "Epoch 3/50\n",
      "30/30 [==============================] - 30s 992ms/step - loss: 0.0045 - val_loss: 0.0026\n",
      "Epoch 4/50\n",
      "30/30 [==============================] - 29s 987ms/step - loss: 0.0049 - val_loss: 0.0019\n",
      "Epoch 5/50\n",
      "30/30 [==============================] - 29s 976ms/step - loss: 0.0045 - val_loss: 0.0041\n",
      "Epoch 6/50\n",
      "30/30 [==============================] - 20s 666ms/step - loss: 0.0046 - val_loss: 0.0047\n",
      "Epoch 7/50\n",
      "30/30 [==============================] - 25s 838ms/step - loss: 0.0040 - val_loss: 0.0022\n",
      "Epoch 8/50\n",
      "30/30 [==============================] - 24s 803ms/step - loss: 0.0033 - val_loss: 0.0035\n",
      "Epoch 9/50\n",
      "30/30 [==============================] - 23s 762ms/step - loss: 0.0042 - val_loss: 0.0151\n",
      "Epoch 10/50\n",
      "30/30 [==============================] - 22s 723ms/step - loss: 0.0045 - val_loss: 0.0016\n",
      "Epoch 11/50\n",
      "30/30 [==============================] - 20s 688ms/step - loss: 0.0036 - val_loss: 0.0017\n",
      "Epoch 12/50\n",
      "30/30 [==============================] - 21s 694ms/step - loss: 0.0032 - val_loss: 0.0051\n",
      "Epoch 13/50\n",
      "30/30 [==============================] - 18s 606ms/step - loss: 0.0029 - val_loss: 0.0017\n",
      "Epoch 14/50\n",
      "30/30 [==============================] - 16s 537ms/step - loss: 0.0030 - val_loss: 0.0043\n",
      "Epoch 15/50\n",
      "30/30 [==============================] - 16s 543ms/step - loss: 0.0031 - val_loss: 0.0020\n",
      "Epoch 16/50\n",
      "30/30 [==============================] - 15s 494ms/step - loss: 0.0028 - val_loss: 0.0014\n",
      "Epoch 17/50\n",
      "30/30 [==============================] - 15s 501ms/step - loss: 0.0030 - val_loss: 0.0026\n",
      "Epoch 18/50\n",
      "30/30 [==============================] - 15s 503ms/step - loss: 0.0034 - val_loss: 0.0028\n",
      "Epoch 19/50\n",
      "30/30 [==============================] - 16s 521ms/step - loss: 0.0029 - val_loss: 0.0076\n",
      "Epoch 20/50\n",
      "30/30 [==============================] - 16s 531ms/step - loss: 0.0029 - val_loss: 0.0014\n",
      "Epoch 21/50\n",
      "30/30 [==============================] - 18s 622ms/step - loss: 0.0036 - val_loss: 0.0027\n",
      "Epoch 22/50\n",
      "30/30 [==============================] - 14s 481ms/step - loss: 0.0028 - val_loss: 0.0024\n",
      "Epoch 23/50\n",
      "30/30 [==============================] - 13s 423ms/step - loss: 0.0025 - val_loss: 0.0015\n",
      "Epoch 24/50\n",
      "30/30 [==============================] - 15s 504ms/step - loss: 0.0024 - val_loss: 0.0029\n",
      "Epoch 25/50\n",
      "30/30 [==============================] - 14s 466ms/step - loss: 0.0024 - val_loss: 0.0023\n",
      "Epoch 26/50\n",
      "30/30 [==============================] - 14s 471ms/step - loss: 0.0024 - val_loss: 0.0024\n",
      "Epoch 27/50\n",
      "30/30 [==============================] - 14s 468ms/step - loss: 0.0026 - val_loss: 0.0012\n",
      "Epoch 28/50\n",
      "30/30 [==============================] - 14s 478ms/step - loss: 0.0022 - val_loss: 0.0019\n",
      "Epoch 29/50\n",
      "30/30 [==============================] - 13s 425ms/step - loss: 0.0024 - val_loss: 0.0012\n",
      "Epoch 30/50\n",
      "30/30 [==============================] - 12s 384ms/step - loss: 0.0024 - val_loss: 0.0012\n",
      "Epoch 31/50\n",
      "30/30 [==============================] - 15s 504ms/step - loss: 0.0023 - val_loss: 0.0013\n",
      "Epoch 32/50\n",
      "30/30 [==============================] - 12s 413ms/step - loss: 0.0027 - val_loss: 0.0020\n",
      "Epoch 33/50\n",
      "30/30 [==============================] - 12s 413ms/step - loss: 0.0020 - val_loss: 0.0020\n",
      "Epoch 34/50\n",
      "30/30 [==============================] - 16s 548ms/step - loss: 0.0021 - val_loss: 0.0040\n",
      "Epoch 35/50\n",
      "30/30 [==============================] - 14s 478ms/step - loss: 0.0021 - val_loss: 0.0016\n",
      "Epoch 36/50\n",
      "30/30 [==============================] - 17s 568ms/step - loss: 0.0022 - val_loss: 0.0012\n",
      "Epoch 37/50\n",
      "30/30 [==============================] - 16s 534ms/step - loss: 0.0021 - val_loss: 0.0014\n",
      "Epoch 38/50\n",
      "30/30 [==============================] - 15s 491ms/step - loss: 0.0018 - val_loss: 0.0012\n",
      "Epoch 39/50\n",
      "30/30 [==============================] - 12s 408ms/step - loss: 0.0019 - val_loss: 0.0013\n",
      "Epoch 40/50\n",
      "30/30 [==============================] - 12s 401ms/step - loss: 0.0021 - val_loss: 0.0034\n",
      "Epoch 41/50\n",
      "30/30 [==============================] - 12s 403ms/step - loss: 0.0021 - val_loss: 0.0028\n",
      "Epoch 42/50\n",
      "30/30 [==============================] - 11s 354ms/step - loss: 0.0021 - val_loss: 0.0018\n",
      "Epoch 43/50\n",
      "30/30 [==============================] - 13s 432ms/step - loss: 0.0021 - val_loss: 0.0012\n",
      "Epoch 44/50\n",
      "30/30 [==============================] - 11s 384ms/step - loss: 0.0020 - val_loss: 0.0011\n",
      "Epoch 45/50\n",
      "30/30 [==============================] - 10s 347ms/step - loss: 0.0021 - val_loss: 0.0045\n",
      "Epoch 46/50\n",
      "30/30 [==============================] - 13s 436ms/step - loss: 0.0023 - val_loss: 0.0017\n",
      "Epoch 47/50\n",
      "30/30 [==============================] - 12s 391ms/step - loss: 0.0018 - val_loss: 0.0024\n",
      "Epoch 48/50\n",
      "30/30 [==============================] - 12s 413ms/step - loss: 0.0017 - val_loss: 0.0011\n",
      "Epoch 49/50\n",
      "30/30 [==============================] - 11s 386ms/step - loss: 0.0018 - val_loss: 0.0013\n",
      "Epoch 50/50\n",
      "30/30 [==============================] - 11s 368ms/step - loss: 0.0022 - val_loss: 0.0018\n"
     ]
    }
   ],
   "source": [
    "validation_split = 0.2\n",
    "history = regressor.fit(X_train, y_train, validation_split = validation_split, epochs = 50, batch_size = 32)"
   ]
  },
  {
   "cell_type": "markdown",
   "id": "6715d9da",
   "metadata": {},
   "source": [
    "Score"
   ]
  },
  {
   "cell_type": "code",
   "execution_count": 29,
   "id": "781a7d97",
   "metadata": {},
   "outputs": [
    {
     "name": "stdout",
     "output_type": "stream",
     "text": [
      "38/38 [==============================] - 4s 107ms/step - loss: 0.0011\n"
     ]
    },
    {
     "data": {
      "text/plain": [
       "0.001111153862439096"
      ]
     },
     "execution_count": 29,
     "metadata": {},
     "output_type": "execute_result"
    }
   ],
   "source": [
    "regressor.evaluate(X_train, y_train)"
   ]
  },
  {
   "cell_type": "markdown",
   "id": "fece5f05",
   "metadata": {},
   "source": [
    "Paramètres"
   ]
  },
  {
   "cell_type": "code",
   "execution_count": 30,
   "id": "f582690b",
   "metadata": {},
   "outputs": [
    {
     "name": "stdout",
     "output_type": "stream",
     "text": [
      "Model: \"sequential\"\n",
      "_________________________________________________________________\n",
      " Layer (type)                Output Shape              Param #   \n",
      "=================================================================\n",
      " lstm (LSTM)                 (None, 60, 60)            14880     \n",
      "                                                                 \n",
      " dropout (Dropout)           (None, 60, 60)            0         \n",
      "                                                                 \n",
      " lstm_1 (LSTM)               (None, 60, 60)            29040     \n",
      "                                                                 \n",
      " dropout_1 (Dropout)         (None, 60, 60)            0         \n",
      "                                                                 \n",
      " lstm_2 (LSTM)               (None, 60, 80)            45120     \n",
      "                                                                 \n",
      " dropout_2 (Dropout)         (None, 60, 80)            0         \n",
      "                                                                 \n",
      " lstm_3 (LSTM)               (None, 100)               72400     \n",
      "                                                                 \n",
      " dropout_3 (Dropout)         (None, 100)               0         \n",
      "                                                                 \n",
      " dense (Dense)               (None, 1)                 101       \n",
      "                                                                 \n",
      "=================================================================\n",
      "Total params: 161,541\n",
      "Trainable params: 161,541\n",
      "Non-trainable params: 0\n",
      "_________________________________________________________________\n"
     ]
    }
   ],
   "source": [
    "regressor.summary()"
   ]
  },
  {
   "cell_type": "markdown",
   "id": "f6e0b2c8",
   "metadata": {},
   "source": [
    "Learning Curve"
   ]
  },
  {
   "cell_type": "code",
   "execution_count": 31,
   "id": "aad1336e",
   "metadata": {},
   "outputs": [
    {
     "data": {
      "image/png": "[encoded data removed]",
      "text/plain": [
       "<Figure size 432x288 with 1 Axes>"
      ]
     },
     "metadata": {
      "needs_background": "light"
     },
     "output_type": "display_data"
    }
   ],
   "source": [
    "# Courbe loss\n",
    "plt.plot(history.history['loss'])\n",
    "plt.plot(history.history['val_loss'])\n",
    "\n",
    "plt.title('model loss')\n",
    "plt.ylabel('loss')\n",
    "plt.xlabel('epoch')\n",
    "plt.legend(['train', 'val_loss'])\n",
    "\n",
    "plt.show()"
   ]
  },
  {
   "cell_type": "markdown",
   "id": "a7a3b280",
   "metadata": {},
   "source": [
    "# 💀 Modèle test"
   ]
  },
  {
   "cell_type": "markdown",
   "id": "44da31ab",
   "metadata": {},
   "source": [
    "Pour prédir le 3 janvier concatener le jeu de train avec le jeu de test pour avoir autant de données dans le test"
   ]
  },
  {
   "cell_type": "markdown",
   "id": "f9ef88c7",
   "metadata": {},
   "source": [
    "Refaire les mêmes étapes que pour le train :\n",
    "* Normaliser\n",
    "* Transformer en séquence\n",
    "* Reshape\n",
    "* Predict : Données normalisées --> Inverse transforme les données"
   ]
  },
  {
   "cell_type": "code",
   "execution_count": 32,
   "id": "4ea0485d",
   "metadata": {},
   "outputs": [],
   "source": [
    "test = pd.read_csv('Google_Stock_Price_Test.csv')\n",
    "real_stock_price = test.iloc[:, 1:2].values\n",
    "total_data=pd.concat([df['Open'],test['Open']],axis=0)"
   ]
  },
  {
   "cell_type": "code",
   "execution_count": 33,
   "id": "19a710c3",
   "metadata": {},
   "outputs": [],
   "source": [
    "inputs = total_data[len(df)-len(test)-60:].values\n",
    "inputs = inputs.reshape(-1,1)\n",
    "inputs = sc.transform(inputs)"
   ]
  },
  {
   "cell_type": "code",
   "execution_count": 34,
   "id": "3f4bd637",
   "metadata": {},
   "outputs": [],
   "source": [
    "X_test=[]\n",
    "for i in range(60,80):\n",
    "    X_test.append(inputs[i-60:i,0])\n",
    "X_test=np.array(X_test)\n",
    "X_test.shape\n",
    "X_test=np.reshape(X_test,(X_test.shape[0],X_test.shape[1],1))"
   ]
  },
  {
   "cell_type": "code",
   "execution_count": 35,
   "id": "42b3c265",
   "metadata": {},
   "outputs": [],
   "source": [
    "predicted = regressor.predict(X_test)\n",
    "predicted = sc.inverse_transform(predicted)"
   ]
  },
  {
   "cell_type": "code",
   "execution_count": 36,
   "id": "4830d3b6",
   "metadata": {},
   "outputs": [
    {
     "data": {
      "image/png": "[encoded data removed]",
      "text/plain": [
       "<Figure size 576x432 with 1 Axes>"
      ]
     },
     "metadata": {
      "needs_background": "light"
     },
     "output_type": "display_data"
    }
   ],
   "source": [
    "#Visualization\n",
    "plt.rcParams[\"figure.figsize\"] = (8,6)\n",
    "plt.plot(predicted,color='red',label='Predicted Stock Price')\n",
    "plt.plot(real_stock_price,color='blue',label='Real Stock Price')\n",
    "plt.title('Google Stock Price Prediction')\n",
    "plt.xlabel('Time')\n",
    "plt.ylabel('Stock Price')\n",
    "plt.legend()\n",
    "plt.show()"
   ]
  },
  {
   "cell_type": "markdown",
   "id": "495270d9",
   "metadata": {},
   "source": [
    "# 👨🏻‍💼 Modèle simple RNN"
   ]
  },
  {
   "cell_type": "code",
   "execution_count": null,
   "id": "97d70b43",
   "metadata": {
    "scrolled": true
   },
   "outputs": [
    {
     "name": "stdout",
     "output_type": "stream",
     "text": [
      "Epoch 1/50\n",
      "30/30 [==============================] - 9s 159ms/step - loss: 0.4152 - val_loss: 0.0839\n",
      "Epoch 2/50\n",
      "30/30 [==============================] - 3s 102ms/step - loss: 0.2469 - val_loss: 0.0017\n",
      "Epoch 3/50\n",
      "30/30 [==============================] - 4s 122ms/step - loss: 0.2053 - val_loss: 0.0381\n",
      "Epoch 4/50\n",
      "30/30 [==============================] - 4s 133ms/step - loss: 0.1423 - val_loss: 0.0033\n",
      "Epoch 5/50\n",
      "30/30 [==============================] - 11s 359ms/step - loss: 0.1183 - val_loss: 0.0059\n",
      "Epoch 6/50\n",
      "30/30 [==============================] - 6s 202ms/step - loss: 0.0997 - val_loss: 0.0092\n",
      "Epoch 7/50\n",
      "30/30 [==============================] - 6s 216ms/step - loss: 0.0841 - val_loss: 0.0424\n",
      "Epoch 8/50\n",
      "30/30 [==============================] - 7s 232ms/step - loss: 0.0683 - val_loss: 0.0033\n",
      "Epoch 9/50\n",
      "30/30 [==============================] - 6s 209ms/step - loss: 0.0608 - val_loss: 0.0024\n",
      "Epoch 10/50\n",
      "30/30 [==============================] - 6s 186ms/step - loss: 0.0492 - val_loss: 0.0014\n",
      "Epoch 11/50\n",
      "30/30 [==============================] - 7s 238ms/step - loss: 0.0416 - val_loss: 0.0029\n",
      "Epoch 12/50\n",
      "30/30 [==============================] - 6s 187ms/step - loss: 0.0404 - val_loss: 0.0037\n",
      "Epoch 13/50\n",
      "30/30 [==============================] - 6s 195ms/step - loss: 0.0375 - val_loss: 0.0015\n",
      "Epoch 14/50\n",
      "30/30 [==============================] - 5s 164ms/step - loss: 0.0313 - val_loss: 0.0023\n",
      "Epoch 15/50\n",
      "30/30 [==============================] - 5s 182ms/step - loss: 0.0303 - val_loss: 0.0013\n",
      "Epoch 16/50\n",
      "30/30 [==============================] - 5s 153ms/step - loss: 0.0272 - val_loss: 0.0033\n",
      "Epoch 17/50\n",
      "30/30 [==============================] - 4s 133ms/step - loss: 0.0248 - val_loss: 0.0012\n",
      "Epoch 18/50\n",
      "30/30 [==============================] - 5s 166ms/step - loss: 0.0216 - val_loss: 0.0016\n",
      "Epoch 19/50\n",
      "30/30 [==============================] - 5s 158ms/step - loss: 0.0210 - val_loss: 0.0014\n",
      "Epoch 20/50\n",
      "30/30 [==============================] - 5s 182ms/step - loss: 0.0174 - val_loss: 0.0025\n",
      "Epoch 21/50\n",
      "30/30 [==============================] - 4s 144ms/step - loss: 0.0182 - val_loss: 0.0018\n",
      "Epoch 22/50\n",
      "30/30 [==============================] - 5s 179ms/step - loss: 0.0179 - val_loss: 9.9288e-04\n",
      "Epoch 23/50\n",
      "30/30 [==============================] - 5s 170ms/step - loss: 0.0142 - val_loss: 0.0013\n",
      "Epoch 24/50\n",
      "30/30 [==============================] - 5s 173ms/step - loss: 0.0144 - val_loss: 8.8580e-04\n",
      "Epoch 25/50\n",
      "30/30 [==============================] - 4s 133ms/step - loss: 0.0130 - val_loss: 0.0011\n",
      "Epoch 26/50\n",
      "30/30 [==============================] - 5s 176ms/step - loss: 0.0120 - val_loss: 0.0015\n",
      "Epoch 27/50\n",
      "30/30 [==============================] - 5s 167ms/step - loss: 0.0113 - val_loss: 0.0012\n",
      "Epoch 28/50\n",
      "30/30 [==============================] - 4s 148ms/step - loss: 0.0100 - val_loss: 8.0563e-04\n",
      "Epoch 29/50\n",
      "30/30 [==============================] - 5s 161ms/step - loss: 0.0096 - val_loss: 7.8820e-04\n",
      "Epoch 30/50\n",
      "14/30 [=============>................] - ETA: 2s - loss: 0.0091"
     ]
    }
   ],
   "source": [
    "from keras.layers import SimpleRNN\n",
    "\n",
    "#Initialize RNN:\n",
    "regressor_rnn = Sequential()\n",
    "\n",
    "#Adding the first RNN layer and some Dropout regularization\n",
    "regressor_rnn.add(SimpleRNN(units = 60, activation='tanh', return_sequences=True, input_shape= (X_train.shape[1],1)))\n",
    "regressor_rnn.add(Dropout(0.2))\n",
    "\n",
    "#Adding the second RNN layer and some Dropout regularization\n",
    "regressor_rnn.add(SimpleRNN(units = 60, activation='tanh', return_sequences=True))\n",
    "regressor_rnn.add(Dropout(0.2))\n",
    "\n",
    "#Adding the third RNN layer and some Dropout regularization\n",
    "regressor_rnn.add(SimpleRNN(units = 60, activation='tanh', return_sequences=True))\n",
    "regressor_rnn.add(Dropout(0.2))\n",
    "\n",
    "#Adding the fourth RNN layer and some Dropout regularization\n",
    "regressor_rnn.add(SimpleRNN(units = 60))\n",
    "regressor_rnn.add(Dropout(0.2))\n",
    "\n",
    "#Adding the output layer\n",
    "regressor_rnn.add(Dense(units = 1))\n",
    "\n",
    "#Compile the RNN\n",
    "regressor_rnn.compile(optimizer='adam', loss='mean_squared_error')\n",
    "\n",
    "#Fitting the RNN to the Training set\n",
    "validation_split = 0.2\n",
    "history_rnn = regressor_rnn.fit(X_train, y_train, validation_split=validation_split, epochs=50, batch_size=32)"
   ]
  },
  {
   "cell_type": "code",
   "execution_count": null,
   "id": "63e70327",
   "metadata": {},
   "outputs": [],
   "source": [
    "regressor_rnn.evaluate(X_train, y_train)"
   ]
  },
  {
   "cell_type": "code",
   "execution_count": null,
   "id": "16f40469",
   "metadata": {},
   "outputs": [],
   "source": [
    "regressor_rnn.summary()"
   ]
  },
  {
   "cell_type": "code",
   "execution_count": null,
   "id": "cdfa63da",
   "metadata": {},
   "outputs": [],
   "source": [
    "# Courbe loss\n",
    "plt.plot(history_rnn.history_rnn['loss'])\n",
    "plt.plot(history_rnn.history_rnn['val_loss'])\n",
    "\n",
    "plt.title('model loss')\n",
    "plt.ylabel('loss')\n",
    "plt.xlabel('epoch')\n",
    "plt.legend(['train', 'val_loss'])\n",
    "\n",
    "plt.show()"
   ]
  }
 ],
 "metadata": {
  "kernelspec": {
   "display_name": "Python 3",
   "language": "python",
   "name": "python3"
  },
  "language_info": {
   "codemirror_mode": {
    "name": "ipython",
    "version": 3
   },
   "file_extension": ".py",
   "mimetype": "text/x-python",
   "name": "python",
   "nbconvert_exporter": "python",
   "pygments_lexer": "ipython3",
   "version": "3.8.8"
  },
  "toc": {
   "base_numbering": 1,
   "nav_menu": {},
   "number_sections": true,
   "sideBar": true,
   "skip_h1_title": false,
   "title_cell": "Table of Contents",
   "title_sidebar": "Contents",
   "toc_cell": false,
   "toc_position": {},
   "toc_section_display": true,
   "toc_window_display": false
  },
  "varInspector": {
   "cols": {
    "lenName": 16,
    "lenType": 16,
    "lenVar": 40
   },
   "kernels_config": {
    "python": {
     "delete_cmd_postfix": "",
     "delete_cmd_prefix": "del ",
     "library": "var_list.py",
     "varRefreshCmd": "print(var_dic_list())"
    },
    "r": {
     "delete_cmd_postfix": ") ",
     "delete_cmd_prefix": "rm(",
     "library": "var_list.r",
     "varRefreshCmd": "cat(var_dic_list()) "
    }
   },
   "types_to_exclude": [
    "module",
    "function",
    "builtin_function_or_method",
    "instance",
    "_Feature"
   ],
   "window_display": false
  }
 },
 "nbformat": 4,
 "nbformat_minor": 5
}
