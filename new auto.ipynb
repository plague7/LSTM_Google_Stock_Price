{
 "cells": [
  {
   "cell_type": "code",
   "execution_count": 1,
   "id": "dcbd55c3",
   "metadata": {},
   "outputs": [],
   "source": [
    "import pandas as pd\n",
    "import numpy as np\n",
    "import seaborn as sns\n",
    "import matplotlib.pyplot as plt\n",
    "import datetime"
   ]
  },
  {
   "cell_type": "code",
   "execution_count": 2,
   "id": "1684e7c9",
   "metadata": {},
   "outputs": [],
   "source": [
    "from sklearn.model_selection import train_test_split\n",
    "from sklearn.preprocessing import MinMaxScaler\n",
    "from keras.models import Sequential\n",
    "import tensorflow as tf\n",
    "from tensorflow.keras.layers import Conv1D, LSTM, Dense, Dropout\n",
    "from tensorflow.keras.layers import MaxPooling1D, Flatten\n",
    "from tensorflow.keras.regularizers import L1, L2\n",
    "from tensorflow.keras.metrics import Accuracy\n",
    "from tensorflow.keras.metrics import RootMeanSquaredError"
   ]
  },
  {
   "cell_type": "code",
   "execution_count": 3,
   "id": "456d586c",
   "metadata": {},
   "outputs": [],
   "source": [
    "def import_et_scale():\n",
    "    global X_train, y_train, dataset_train, sc\n",
    "    dataset_train = pd.read_csv('Google_Stock_Price_Train.csv')\n",
    "    training_set = dataset_train.iloc[:, 1:2].values\n",
    "    \n",
    "    sc = MinMaxScaler(feature_range = (0, 1))\n",
    "    training_set_scaled = sc.fit_transform(training_set)\n",
    "    \n",
    "    X_train = []\n",
    "    y_train = []\n",
    "    for i in range(60, 1258):\n",
    "        X_train.append(training_set_scaled[i-60:i, 0])\n",
    "        y_train.append(training_set_scaled[i, 0])\n",
    "    X_train, y_train = np.array(X_train), np.array(y_train)\n",
    "    \n",
    "    X_train = np.reshape(X_train, (X_train.shape[0], X_train.shape[1], 1))\n",
    "    print(X_train.shape)"
   ]
  },
  {
   "cell_type": "code",
   "execution_count": 4,
   "id": "b317d50c",
   "metadata": {},
   "outputs": [],
   "source": [
    "def LSTM_first_layer():\n",
    "    global dropout_LSTM_layer, X_train, regressor\n",
    "    print('Combien d\\'units mettre dans cette couche ? (50 de base)')\n",
    "    LSTM_units = int(input())\n",
    "    if LSTM_units == '':\n",
    "        LSTM_units = 50\n",
    "    regressor.add(LSTM(units=LSTM_units, return_sequences=True, input_shape=(X_train.shape[1],1)))\n",
    "    regressor.add(Dropout(dropout_LSTM_layer))"
   ]
  },
  {
   "cell_type": "code",
   "execution_count": 5,
   "id": "246b6176",
   "metadata": {},
   "outputs": [],
   "source": [
    "def LSTM_layer():\n",
    "    global LSTM_layers, dropout_LSTM_layer, regressor\n",
    "    print('Combien d\\'units mettre dans cette couche ? (50 de base)')\n",
    "    LSTM_units = int(input())\n",
    "    if LSTM_units == '':\n",
    "        LSTM_units = 50\n",
    "    regressor.add(LSTM(units=LSTM_units, return_sequences=True))\n",
    "    regressor.add(Dropout(dropout_LSTM_layer))"
   ]
  },
  {
   "cell_type": "code",
   "execution_count": 12,
   "id": "7c123c7a",
   "metadata": {},
   "outputs": [],
   "source": [
    "def model():\n",
    "    #Variables global\n",
    "    global regressor, history, X_train, y_train, dropout_LSTM_layer, LSTM_layers, dataset_train, sc, n_epochs, ze_batch_size\n",
    "\n",
    "    regressor = Sequential()\n",
    "    print('Entrer le nombre de couches LSTM que vous voulez')\n",
    "    LSTM_layers = int(input())\n",
    "    print('Choisissez le taux de Dropout pour ces couches (0.1, 0.15, 0.2...)')\n",
    "    dropout_LSTM_layer = float(input())\n",
    "    if LSTM_layers > 1:\n",
    "        LSTM_first_layer()\n",
    "        for LSTM_layers in range((LSTM_layers-1)):\n",
    "            LSTM_layer()\n",
    "    else:\n",
    "        LSTM_first_layer()\n",
    "\n",
    "    # The output layer\n",
    "    regressor.add(Dense(units=1))\n",
    "    \n",
    "    # Compiling the RNN\n",
    "    regressor.compile(optimizer='adam',loss='mean_squared_error')\n",
    "    \n",
    "    print('Choisissez le nombre d\\'epoch')\n",
    "    n_epochs = int(input())\n",
    "    print('Choisissez le batch_size')\n",
    "    ze_batch_size = int(input())\n",
    "    "
   ]
  },
  {
   "cell_type": "code",
   "execution_count": 34,
   "id": "a946e741",
   "metadata": {},
   "outputs": [],
   "source": [
    "def real_stock_price():\n",
    "    global regressor, history, X_train, y_train, dropout_LSTM_layer, LSTM_layers, dataset_train\n",
    "    \n",
    "    sc = MinMaxScaler(feature_range = (0, 1))\n",
    "    training_set_scaled = sc.fit_transform(X_train)\n",
    "    \n",
    "    dataset_test = pd.read_csv('Google_Stock_Price_Test.csv')\n",
    "    real_stock_price = dataset_test.iloc[:, 1:2].values\n",
    "    dataset_total = pd.concat((dataset_train['Open'], dataset_test['Open']), axis = 0)\n",
    "    inputs = dataset_total[len(dataset_total) - len(dataset_test) - 60:].values\n",
    "    inputs = inputs.reshape(-1,1)\n",
    "    inputs = sc.transform(inputs)\n",
    "    X_test = []\n",
    "    for i in range(60, 80):\n",
    "        X_test.append(inputs[i-60:i, 0])\n",
    "    X_test = np.array(X_test)\n",
    "    print(X_test.shape)\n",
    "    X_test = np.reshape(X_test, (X_test.shape[0], X_test.shape[1], 1))\n",
    "    print(X_test.shape)\n",
    "    predicted_stock_price = regressor.predict(X_test)\n",
    "    print(predicted_stock_price)\n",
    "    print(predicted_stock_price.shape)\n",
    "    #predicted_stock_price = sc.inverse_transform(predicted_stock_price)\n",
    "    print(predicted_stock_price.shape)"
   ]
  },
  {
   "cell_type": "code",
   "execution_count": 8,
   "id": "8c44f237",
   "metadata": {},
   "outputs": [
    {
     "name": "stdout",
     "output_type": "stream",
     "text": [
      "(1198, 60, 1)\n"
     ]
    }
   ],
   "source": [
    "import_et_scale()"
   ]
  },
  {
   "cell_type": "code",
   "execution_count": 13,
   "id": "cf72e402",
   "metadata": {
    "scrolled": false
   },
   "outputs": [
    {
     "name": "stdout",
     "output_type": "stream",
     "text": [
      "Entrer le nombre de couches LSTM que vous voulez\n",
      "1\n",
      "Choisissez le taux de Dropout pour ces couches (0.1, 0.15, 0.2...)\n",
      "0.2\n",
      "Combien d'units mettre dans cette couche ? (50 de base)\n",
      "1\n",
      "Choisissez le nombre d'epoch\n",
      "1\n",
      "Choisissez le batch_size\n",
      "1\n",
      "[[0.08581368]\n",
      " [0.09701243]\n",
      " [0.09433366]\n",
      " [0.09156187]\n",
      " [0.07984225]\n",
      " [0.0643277 ]\n",
      " [0.0585423 ]\n",
      " [0.06568569]\n",
      " [0.06109085]\n",
      " [0.06639259]\n",
      " [0.0614257 ]\n",
      " [0.07474514]\n",
      " [0.02797827]\n",
      " [0.02379269]\n",
      " [0.02409033]\n",
      " [0.0159238 ]\n",
      " [0.01078949]\n",
      " [0.00967334]\n",
      " [0.01642607]\n",
      " [0.02100231]\n",
      " [0.02280676]\n",
      " [0.02273235]\n",
      " [0.02810849]\n",
      " [0.03212665]\n",
      " [0.0433812 ]\n",
      " [0.04475779]\n",
      " [0.04790163]\n",
      " [0.0440695 ]\n",
      " [0.04648783]\n",
      " [0.04745517]\n",
      " [0.04873875]\n",
      " [0.03936305]\n",
      " [0.04137213]\n",
      " [0.04034898]\n",
      " [0.04784582]\n",
      " [0.04325099]\n",
      " [0.04356723]\n",
      " [0.04286033]\n",
      " [0.04602277]\n",
      " [0.05398467]\n",
      " [0.05738894]\n",
      " [0.05714711]\n",
      " [0.05569611]\n",
      " [0.04421832]\n",
      " [0.04514845]\n",
      " [0.04605997]\n",
      " [0.04412531]\n",
      " [0.03675869]\n",
      " [0.04486941]\n",
      " [0.05065481]\n",
      " [0.05214302]\n",
      " [0.05612397]\n",
      " [0.05818885]\n",
      " [0.06540665]\n",
      " [0.06882953]\n",
      " [0.07243843]\n",
      " [0.07993526]\n",
      " [0.07846566]\n",
      " [0.08034452]\n",
      " [0.08497656]]\n",
      "0.08627874097775134\n"
     ]
    }
   ],
   "source": [
    "model()"
   ]
  },
  {
   "cell_type": "code",
   "execution_count": 21,
   "id": "fe7b9c62",
   "metadata": {},
   "outputs": [
    {
     "name": "stdout",
     "output_type": "stream",
     "text": [
      "1198/1198 [==============================] - 22s 18ms/step - loss: 0.0245\n",
      "[[0.08581368]\n",
      " [0.09701243]\n",
      " [0.09433366]\n",
      " [0.09156187]\n",
      " [0.07984225]\n",
      " [0.0643277 ]\n",
      " [0.0585423 ]\n",
      " [0.06568569]\n",
      " [0.06109085]\n",
      " [0.06639259]\n",
      " [0.0614257 ]\n",
      " [0.07474514]\n",
      " [0.02797827]\n",
      " [0.02379269]\n",
      " [0.02409033]\n",
      " [0.0159238 ]\n",
      " [0.01078949]\n",
      " [0.00967334]\n",
      " [0.01642607]\n",
      " [0.02100231]\n",
      " [0.02280676]\n",
      " [0.02273235]\n",
      " [0.02810849]\n",
      " [0.03212665]\n",
      " [0.0433812 ]\n",
      " [0.04475779]\n",
      " [0.04790163]\n",
      " [0.0440695 ]\n",
      " [0.04648783]\n",
      " [0.04745517]\n",
      " [0.04873875]\n",
      " [0.03936305]\n",
      " [0.04137213]\n",
      " [0.04034898]\n",
      " [0.04784582]\n",
      " [0.04325099]\n",
      " [0.04356723]\n",
      " [0.04286033]\n",
      " [0.04602277]\n",
      " [0.05398467]\n",
      " [0.05738894]\n",
      " [0.05714711]\n",
      " [0.05569611]\n",
      " [0.04421832]\n",
      " [0.04514845]\n",
      " [0.04605997]\n",
      " [0.04412531]\n",
      " [0.03675869]\n",
      " [0.04486941]\n",
      " [0.05065481]\n",
      " [0.05214302]\n",
      " [0.05612397]\n",
      " [0.05818885]\n",
      " [0.06540665]\n",
      " [0.06882953]\n",
      " [0.07243843]\n",
      " [0.07993526]\n",
      " [0.07846566]\n",
      " [0.08034452]\n",
      " [0.08497656]]\n",
      "0.08627874097775134\n"
     ]
    }
   ],
   "source": [
    "\n",
    "# Fitting to the training set\n",
    "hist = regressor.fit(X_train,y_train,epochs=n_epochs,batch_size=ze_batch_size)\n",
    "print(X_train[0])\n",
    "print(y_train[0])"
   ]
  },
  {
   "cell_type": "code",
   "execution_count": 35,
   "id": "aada71e1",
   "metadata": {
    "scrolled": false
   },
   "outputs": [
    {
     "ename": "ValueError",
     "evalue": "Found array with dim 3. MinMaxScaler expected <= 2.",
     "output_type": "error",
     "traceback": [
      "\u001b[1;31m---------------------------------------------------------------------------\u001b[0m",
      "\u001b[1;31mValueError\u001b[0m                                Traceback (most recent call last)",
      "\u001b[1;32m<ipython-input-35-0f49d80b716b>\u001b[0m in \u001b[0;36m<module>\u001b[1;34m\u001b[0m\n\u001b[1;32m----> 1\u001b[1;33m \u001b[0mreal_stock_price\u001b[0m\u001b[1;33m(\u001b[0m\u001b[1;33m)\u001b[0m\u001b[1;33m\u001b[0m\u001b[1;33m\u001b[0m\u001b[0m\n\u001b[0m",
      "\u001b[1;32m<ipython-input-34-7d4cb607e2a3>\u001b[0m in \u001b[0;36mreal_stock_price\u001b[1;34m()\u001b[0m\n\u001b[0;32m      3\u001b[0m \u001b[1;33m\u001b[0m\u001b[0m\n\u001b[0;32m      4\u001b[0m     \u001b[0msc\u001b[0m \u001b[1;33m=\u001b[0m \u001b[0mMinMaxScaler\u001b[0m\u001b[1;33m(\u001b[0m\u001b[0mfeature_range\u001b[0m \u001b[1;33m=\u001b[0m \u001b[1;33m(\u001b[0m\u001b[1;36m0\u001b[0m\u001b[1;33m,\u001b[0m \u001b[1;36m1\u001b[0m\u001b[1;33m)\u001b[0m\u001b[1;33m)\u001b[0m\u001b[1;33m\u001b[0m\u001b[1;33m\u001b[0m\u001b[0m\n\u001b[1;32m----> 5\u001b[1;33m     \u001b[0mtraining_set_scaled\u001b[0m \u001b[1;33m=\u001b[0m \u001b[0msc\u001b[0m\u001b[1;33m.\u001b[0m\u001b[0mfit_transform\u001b[0m\u001b[1;33m(\u001b[0m\u001b[0mX_train\u001b[0m\u001b[1;33m)\u001b[0m\u001b[1;33m\u001b[0m\u001b[1;33m\u001b[0m\u001b[0m\n\u001b[0m\u001b[0;32m      6\u001b[0m \u001b[1;33m\u001b[0m\u001b[0m\n\u001b[0;32m      7\u001b[0m     \u001b[0mdataset_test\u001b[0m \u001b[1;33m=\u001b[0m \u001b[0mpd\u001b[0m\u001b[1;33m.\u001b[0m\u001b[0mread_csv\u001b[0m\u001b[1;33m(\u001b[0m\u001b[1;34m'Google_Stock_Price_Test.csv'\u001b[0m\u001b[1;33m)\u001b[0m\u001b[1;33m\u001b[0m\u001b[1;33m\u001b[0m\u001b[0m\n",
      "\u001b[1;32m~\\anaconda3\\lib\\site-packages\\sklearn\\base.py\u001b[0m in \u001b[0;36mfit_transform\u001b[1;34m(self, X, y, **fit_params)\u001b[0m\n\u001b[0;32m    697\u001b[0m         \u001b[1;32mif\u001b[0m \u001b[0my\u001b[0m \u001b[1;32mis\u001b[0m \u001b[1;32mNone\u001b[0m\u001b[1;33m:\u001b[0m\u001b[1;33m\u001b[0m\u001b[1;33m\u001b[0m\u001b[0m\n\u001b[0;32m    698\u001b[0m             \u001b[1;31m# fit method of arity 1 (unsupervised transformation)\u001b[0m\u001b[1;33m\u001b[0m\u001b[1;33m\u001b[0m\u001b[1;33m\u001b[0m\u001b[0m\n\u001b[1;32m--> 699\u001b[1;33m             \u001b[1;32mreturn\u001b[0m \u001b[0mself\u001b[0m\u001b[1;33m.\u001b[0m\u001b[0mfit\u001b[0m\u001b[1;33m(\u001b[0m\u001b[0mX\u001b[0m\u001b[1;33m,\u001b[0m \u001b[1;33m**\u001b[0m\u001b[0mfit_params\u001b[0m\u001b[1;33m)\u001b[0m\u001b[1;33m.\u001b[0m\u001b[0mtransform\u001b[0m\u001b[1;33m(\u001b[0m\u001b[0mX\u001b[0m\u001b[1;33m)\u001b[0m\u001b[1;33m\u001b[0m\u001b[1;33m\u001b[0m\u001b[0m\n\u001b[0m\u001b[0;32m    700\u001b[0m         \u001b[1;32melse\u001b[0m\u001b[1;33m:\u001b[0m\u001b[1;33m\u001b[0m\u001b[1;33m\u001b[0m\u001b[0m\n\u001b[0;32m    701\u001b[0m             \u001b[1;31m# fit method of arity 2 (supervised transformation)\u001b[0m\u001b[1;33m\u001b[0m\u001b[1;33m\u001b[0m\u001b[1;33m\u001b[0m\u001b[0m\n",
      "\u001b[1;32m~\\anaconda3\\lib\\site-packages\\sklearn\\preprocessing\\_data.py\u001b[0m in \u001b[0;36mfit\u001b[1;34m(self, X, y)\u001b[0m\n\u001b[0;32m    361\u001b[0m         \u001b[1;31m# Reset internal state before fitting\u001b[0m\u001b[1;33m\u001b[0m\u001b[1;33m\u001b[0m\u001b[1;33m\u001b[0m\u001b[0m\n\u001b[0;32m    362\u001b[0m         \u001b[0mself\u001b[0m\u001b[1;33m.\u001b[0m\u001b[0m_reset\u001b[0m\u001b[1;33m(\u001b[0m\u001b[1;33m)\u001b[0m\u001b[1;33m\u001b[0m\u001b[1;33m\u001b[0m\u001b[0m\n\u001b[1;32m--> 363\u001b[1;33m         \u001b[1;32mreturn\u001b[0m \u001b[0mself\u001b[0m\u001b[1;33m.\u001b[0m\u001b[0mpartial_fit\u001b[0m\u001b[1;33m(\u001b[0m\u001b[0mX\u001b[0m\u001b[1;33m,\u001b[0m \u001b[0my\u001b[0m\u001b[1;33m)\u001b[0m\u001b[1;33m\u001b[0m\u001b[1;33m\u001b[0m\u001b[0m\n\u001b[0m\u001b[0;32m    364\u001b[0m \u001b[1;33m\u001b[0m\u001b[0m\n\u001b[0;32m    365\u001b[0m     \u001b[1;32mdef\u001b[0m \u001b[0mpartial_fit\u001b[0m\u001b[1;33m(\u001b[0m\u001b[0mself\u001b[0m\u001b[1;33m,\u001b[0m \u001b[0mX\u001b[0m\u001b[1;33m,\u001b[0m \u001b[0my\u001b[0m\u001b[1;33m=\u001b[0m\u001b[1;32mNone\u001b[0m\u001b[1;33m)\u001b[0m\u001b[1;33m:\u001b[0m\u001b[1;33m\u001b[0m\u001b[1;33m\u001b[0m\u001b[0m\n",
      "\u001b[1;32m~\\anaconda3\\lib\\site-packages\\sklearn\\preprocessing\\_data.py\u001b[0m in \u001b[0;36mpartial_fit\u001b[1;34m(self, X, y)\u001b[0m\n\u001b[0;32m    394\u001b[0m \u001b[1;33m\u001b[0m\u001b[0m\n\u001b[0;32m    395\u001b[0m         \u001b[0mfirst_pass\u001b[0m \u001b[1;33m=\u001b[0m \u001b[1;32mnot\u001b[0m \u001b[0mhasattr\u001b[0m\u001b[1;33m(\u001b[0m\u001b[0mself\u001b[0m\u001b[1;33m,\u001b[0m \u001b[1;34m'n_samples_seen_'\u001b[0m\u001b[1;33m)\u001b[0m\u001b[1;33m\u001b[0m\u001b[1;33m\u001b[0m\u001b[0m\n\u001b[1;32m--> 396\u001b[1;33m         X = self._validate_data(X, reset=first_pass,\n\u001b[0m\u001b[0;32m    397\u001b[0m                                 \u001b[0mestimator\u001b[0m\u001b[1;33m=\u001b[0m\u001b[0mself\u001b[0m\u001b[1;33m,\u001b[0m \u001b[0mdtype\u001b[0m\u001b[1;33m=\u001b[0m\u001b[0mFLOAT_DTYPES\u001b[0m\u001b[1;33m,\u001b[0m\u001b[1;33m\u001b[0m\u001b[1;33m\u001b[0m\u001b[0m\n\u001b[0;32m    398\u001b[0m                                 force_all_finite=\"allow-nan\")\n",
      "\u001b[1;32m~\\anaconda3\\lib\\site-packages\\sklearn\\base.py\u001b[0m in \u001b[0;36m_validate_data\u001b[1;34m(self, X, y, reset, validate_separately, **check_params)\u001b[0m\n\u001b[0;32m    419\u001b[0m             \u001b[0mout\u001b[0m \u001b[1;33m=\u001b[0m \u001b[0mX\u001b[0m\u001b[1;33m\u001b[0m\u001b[1;33m\u001b[0m\u001b[0m\n\u001b[0;32m    420\u001b[0m         \u001b[1;32melif\u001b[0m \u001b[0misinstance\u001b[0m\u001b[1;33m(\u001b[0m\u001b[0my\u001b[0m\u001b[1;33m,\u001b[0m \u001b[0mstr\u001b[0m\u001b[1;33m)\u001b[0m \u001b[1;32mand\u001b[0m \u001b[0my\u001b[0m \u001b[1;33m==\u001b[0m \u001b[1;34m'no_validation'\u001b[0m\u001b[1;33m:\u001b[0m\u001b[1;33m\u001b[0m\u001b[1;33m\u001b[0m\u001b[0m\n\u001b[1;32m--> 421\u001b[1;33m             \u001b[0mX\u001b[0m \u001b[1;33m=\u001b[0m \u001b[0mcheck_array\u001b[0m\u001b[1;33m(\u001b[0m\u001b[0mX\u001b[0m\u001b[1;33m,\u001b[0m \u001b[1;33m**\u001b[0m\u001b[0mcheck_params\u001b[0m\u001b[1;33m)\u001b[0m\u001b[1;33m\u001b[0m\u001b[1;33m\u001b[0m\u001b[0m\n\u001b[0m\u001b[0;32m    422\u001b[0m             \u001b[0mout\u001b[0m \u001b[1;33m=\u001b[0m \u001b[0mX\u001b[0m\u001b[1;33m\u001b[0m\u001b[1;33m\u001b[0m\u001b[0m\n\u001b[0;32m    423\u001b[0m         \u001b[1;32melse\u001b[0m\u001b[1;33m:\u001b[0m\u001b[1;33m\u001b[0m\u001b[1;33m\u001b[0m\u001b[0m\n",
      "\u001b[1;32m~\\anaconda3\\lib\\site-packages\\sklearn\\utils\\validation.py\u001b[0m in \u001b[0;36minner_f\u001b[1;34m(*args, **kwargs)\u001b[0m\n\u001b[0;32m     61\u001b[0m             \u001b[0mextra_args\u001b[0m \u001b[1;33m=\u001b[0m \u001b[0mlen\u001b[0m\u001b[1;33m(\u001b[0m\u001b[0margs\u001b[0m\u001b[1;33m)\u001b[0m \u001b[1;33m-\u001b[0m \u001b[0mlen\u001b[0m\u001b[1;33m(\u001b[0m\u001b[0mall_args\u001b[0m\u001b[1;33m)\u001b[0m\u001b[1;33m\u001b[0m\u001b[1;33m\u001b[0m\u001b[0m\n\u001b[0;32m     62\u001b[0m             \u001b[1;32mif\u001b[0m \u001b[0mextra_args\u001b[0m \u001b[1;33m<=\u001b[0m \u001b[1;36m0\u001b[0m\u001b[1;33m:\u001b[0m\u001b[1;33m\u001b[0m\u001b[1;33m\u001b[0m\u001b[0m\n\u001b[1;32m---> 63\u001b[1;33m                 \u001b[1;32mreturn\u001b[0m \u001b[0mf\u001b[0m\u001b[1;33m(\u001b[0m\u001b[1;33m*\u001b[0m\u001b[0margs\u001b[0m\u001b[1;33m,\u001b[0m \u001b[1;33m**\u001b[0m\u001b[0mkwargs\u001b[0m\u001b[1;33m)\u001b[0m\u001b[1;33m\u001b[0m\u001b[1;33m\u001b[0m\u001b[0m\n\u001b[0m\u001b[0;32m     64\u001b[0m \u001b[1;33m\u001b[0m\u001b[0m\n\u001b[0;32m     65\u001b[0m             \u001b[1;31m# extra_args > 0\u001b[0m\u001b[1;33m\u001b[0m\u001b[1;33m\u001b[0m\u001b[1;33m\u001b[0m\u001b[0m\n",
      "\u001b[1;32m~\\anaconda3\\lib\\site-packages\\sklearn\\utils\\validation.py\u001b[0m in \u001b[0;36mcheck_array\u001b[1;34m(array, accept_sparse, accept_large_sparse, dtype, order, copy, force_all_finite, ensure_2d, allow_nd, ensure_min_samples, ensure_min_features, estimator)\u001b[0m\n\u001b[0;32m    657\u001b[0m                     \"into decimal numbers with dtype='numeric'\") from e\n\u001b[0;32m    658\u001b[0m         \u001b[1;32mif\u001b[0m \u001b[1;32mnot\u001b[0m \u001b[0mallow_nd\u001b[0m \u001b[1;32mand\u001b[0m \u001b[0marray\u001b[0m\u001b[1;33m.\u001b[0m\u001b[0mndim\u001b[0m \u001b[1;33m>=\u001b[0m \u001b[1;36m3\u001b[0m\u001b[1;33m:\u001b[0m\u001b[1;33m\u001b[0m\u001b[1;33m\u001b[0m\u001b[0m\n\u001b[1;32m--> 659\u001b[1;33m             raise ValueError(\"Found array with dim %d. %s expected <= 2.\"\n\u001b[0m\u001b[0;32m    660\u001b[0m                              % (array.ndim, estimator_name))\n\u001b[0;32m    661\u001b[0m \u001b[1;33m\u001b[0m\u001b[0m\n",
      "\u001b[1;31mValueError\u001b[0m: Found array with dim 3. MinMaxScaler expected <= 2."
     ]
    }
   ],
   "source": [
    "real_stock_price()"
   ]
  }
 ],
 "metadata": {
  "kernelspec": {
   "display_name": "Python 3",
   "language": "python",
   "name": "python3"
  },
  "language_info": {
   "codemirror_mode": {
    "name": "ipython",
    "version": 3
   },
   "file_extension": ".py",
   "mimetype": "text/x-python",
   "name": "python",
   "nbconvert_exporter": "python",
   "pygments_lexer": "ipython3",
   "version": "3.8.8"
  }
 },
 "nbformat": 4,
 "nbformat_minor": 5
}
