{
 "cells": [
  {
   "cell_type": "markdown",
   "id": "74f27a31",
   "metadata": {},
   "source": [
    "## Import"
   ]
  },
  {
   "cell_type": "code",
   "execution_count": 1,
   "id": "be3fb167",
   "metadata": {},
   "outputs": [],
   "source": [
    "import pandas as pd\n",
    "import numpy as np\n",
    "import seaborn as sns\n",
    "import matplotlib.pyplot as plt\n",
    "import datetime"
   ]
  },
  {
   "cell_type": "markdown",
   "id": "adf4df29",
   "metadata": {},
   "source": [
    "#### Import LSTM"
   ]
  },
  {
   "cell_type": "code",
   "execution_count": 2,
   "id": "57299d46",
   "metadata": {},
   "outputs": [],
   "source": [
    "from sklearn.model_selection import train_test_split\n",
    "from sklearn.preprocessing import MinMaxScaler\n",
    "from keras.models import Sequential\n",
    "import tensorflow as tf\n",
    "from tensorflow.keras.layers import Conv1D, LSTM, Dense, Dropout\n",
    "from tensorflow.keras.layers import MaxPooling1D, Flatten\n",
    "from tensorflow.keras.regularizers import L1, L2\n",
    "from tensorflow.keras.metrics import Accuracy\n",
    "from tensorflow.keras.metrics import RootMeanSquaredError"
   ]
  },
  {
   "cell_type": "code",
   "execution_count": 3,
   "id": "dad99719",
   "metadata": {},
   "outputs": [
    {
     "data": {
      "text/html": [
       "<div>\n",
       "<style scoped>\n",
       "    .dataframe tbody tr th:only-of-type {\n",
       "        vertical-align: middle;\n",
       "    }\n",
       "\n",
       "    .dataframe tbody tr th {\n",
       "        vertical-align: top;\n",
       "    }\n",
       "\n",
       "    .dataframe thead th {\n",
       "        text-align: right;\n",
       "    }\n",
       "</style>\n",
       "<table border=\"1\" class=\"dataframe\">\n",
       "  <thead>\n",
       "    <tr style=\"text-align: right;\">\n",
       "      <th></th>\n",
       "      <th>Open</th>\n",
       "      <th>High</th>\n",
       "      <th>Low</th>\n",
       "      <th>Close</th>\n",
       "      <th>Volume</th>\n",
       "    </tr>\n",
       "    <tr>\n",
       "      <th>Date</th>\n",
       "      <th></th>\n",
       "      <th></th>\n",
       "      <th></th>\n",
       "      <th></th>\n",
       "      <th></th>\n",
       "    </tr>\n",
       "  </thead>\n",
       "  <tbody>\n",
       "    <tr>\n",
       "      <th>2012-01-03</th>\n",
       "      <td>325.25</td>\n",
       "      <td>332.83</td>\n",
       "      <td>324.97</td>\n",
       "      <td>663.59</td>\n",
       "      <td>7,380,500</td>\n",
       "    </tr>\n",
       "    <tr>\n",
       "      <th>2012-01-04</th>\n",
       "      <td>331.27</td>\n",
       "      <td>333.87</td>\n",
       "      <td>329.08</td>\n",
       "      <td>666.45</td>\n",
       "      <td>5,749,400</td>\n",
       "    </tr>\n",
       "    <tr>\n",
       "      <th>2012-01-05</th>\n",
       "      <td>329.83</td>\n",
       "      <td>330.75</td>\n",
       "      <td>326.89</td>\n",
       "      <td>657.21</td>\n",
       "      <td>6,590,300</td>\n",
       "    </tr>\n",
       "    <tr>\n",
       "      <th>2012-01-06</th>\n",
       "      <td>328.34</td>\n",
       "      <td>328.77</td>\n",
       "      <td>323.68</td>\n",
       "      <td>648.24</td>\n",
       "      <td>5,405,900</td>\n",
       "    </tr>\n",
       "    <tr>\n",
       "      <th>2012-01-09</th>\n",
       "      <td>322.04</td>\n",
       "      <td>322.29</td>\n",
       "      <td>309.46</td>\n",
       "      <td>620.76</td>\n",
       "      <td>11,688,800</td>\n",
       "    </tr>\n",
       "  </tbody>\n",
       "</table>\n",
       "</div>"
      ],
      "text/plain": [
       "              Open    High     Low   Close      Volume\n",
       "Date                                                  \n",
       "2012-01-03  325.25  332.83  324.97  663.59   7,380,500\n",
       "2012-01-04  331.27  333.87  329.08  666.45   5,749,400\n",
       "2012-01-05  329.83  330.75  326.89  657.21   6,590,300\n",
       "2012-01-06  328.34  328.77  323.68  648.24   5,405,900\n",
       "2012-01-09  322.04  322.29  309.46  620.76  11,688,800"
      ]
     },
     "execution_count": 3,
     "metadata": {},
     "output_type": "execute_result"
    }
   ],
   "source": [
    "df = pd.read_csv(\"Google_Stock_Price_Train.csv\", index_col=\"Date\", parse_dates=True)\n",
    "\n",
    "df.head()"
   ]
  },
  {
   "cell_type": "markdown",
   "id": "b54b95db",
   "metadata": {},
   "source": [
    "## EDA rapide des valeurs en ouverture"
   ]
  },
  {
   "cell_type": "markdown",
   "id": "d1e61f3e",
   "metadata": {},
   "source": [
    "### Représentation \"Open\""
   ]
  },
  {
   "cell_type": "code",
   "execution_count": 4,
   "id": "9b496688",
   "metadata": {},
   "outputs": [
    {
     "data": {
      "text/plain": [
       "Text(0.5, 0, 'Date')"
      ]
     },
     "execution_count": 4,
     "metadata": {},
     "output_type": "execute_result"
    },
    {
     "data": {
      "image/png": "[encoded data removed]",
      "text/plain": [
       "<Figure size 1008x432 with 1 Axes>"
      ]
     },
     "metadata": {
      "needs_background": "light"
     },
     "output_type": "display_data"
    }
   ],
   "source": [
    "plt.figure(figsize=(14,6))\n",
    "\n",
    "plt.title(\"Valeur journalière d'ouverture des actions de Google\")\n",
    "\n",
    "sns.lineplot(data=df['Open'], label=\"Valeur en ouverture\")\n",
    "\n",
    "plt.xlabel(\"Date\")"
   ]
  },
  {
   "cell_type": "markdown",
   "id": "9cccb2e5",
   "metadata": {},
   "source": [
    "On observe une certaine tendance à augment au cours du temps. Nous allons travailler sur la recherche de sa trend"
   ]
  },
  {
   "cell_type": "markdown",
   "id": "7dea1c8a",
   "metadata": {},
   "source": [
    "### Observation de la trend"
   ]
  },
  {
   "cell_type": "code",
   "execution_count": 5,
   "id": "008ae964",
   "metadata": {},
   "outputs": [
    {
     "data": {
      "image/png": "[encoded data removed]",
      "text/plain": [
       "<Figure size 1008x432 with 1 Axes>"
      ]
     },
     "metadata": {
      "needs_background": "light"
     },
     "output_type": "display_data"
    }
   ],
   "source": [
    "plt.figure(figsize=(14,6))\n",
    "\n",
    "moving_average = df['Open'].rolling(\n",
    "    window=365,       # 365-day window\n",
    "    center=True,      # puts the average at the center of the window\n",
    "    min_periods=183,  # choose about half the window size\n",
    ").mean()              # compute the mean (could also do median, std, min, max, ...)\n",
    "\n",
    "ax = df['Open'].plot(style=\".\", color=\"0.5\")\n",
    "moving_average.plot(\n",
    "    ax=ax, linewidth=3, title=\"Tunnel Traffic - 365-Day Moving Average\", legend=False,\n",
    ");"
   ]
  },
  {
   "cell_type": "markdown",
   "id": "6a656d15",
   "metadata": {},
   "source": [
    "On observe deux allures différentes : \n",
    "-  Soi une croissance assez élevé\n",
    "-  Ou soi une période où les actions stagnent/croissance basse\n",
    "    \n",
    "Il semblerait que l'on soit actuellement dans une période avec une croissance basse."
   ]
  },
  {
   "cell_type": "markdown",
   "id": "e2982820",
   "metadata": {},
   "source": [
    "## Fonctions"
   ]
  },
  {
   "cell_type": "code",
   "execution_count": 11,
   "id": "e9ff25ab",
   "metadata": {},
   "outputs": [],
   "source": [
    "def model():\n",
    "    #Variables global\n",
    "    global regressor, X_train, y_train, dropout_LSTM_layer, LSTM_layers, df\n",
    "    \n",
    "    training_set = df.iloc[:,1:2].values\n",
    "    \n",
    "    sc = MinMaxScaler(feature_range = (0, 1))\n",
    "    training_set_scaled = sc.fit_transform(training_set)\n",
    "    \n",
    "    X_train=[]\n",
    "    y_train=[]\n",
    "    for i in range(60, 1258):\n",
    "        X_train.append(training_set_scaled[i-60:i,0])\n",
    "        y_train.append(training_set_scaled[i,0])\n",
    "    X_train, y_train = np.array(X_train), np.array(y_train)\n",
    "    \n",
    "    X_train = np.reshape(X_train, (X_train.shape[0], X_train.shape[1], 1))\n",
    "    \n",
    "    regressor = Sequential()\n",
    "    print('Entrer le nombre de couches LSTM que vous voulez')\n",
    "    LSTM_layers = int(input())\n",
    "    print('Choisissez le taux de Dropout pour ces couches (0.1, 0.15, 0.2...)')\n",
    "    dropout_LSTM_layer = float(input())\n",
    "    #if LSTM_layers > 1:\n",
    "    #    LSTM_first_layer()\n",
    "    #    for LSTM_layers in range((LSTM_layers-1)):\n",
    "    #        LSTM_layer()\n",
    "    #else:\n",
    "    #    LSTM_first_layer()\n",
    "\n",
    "    # The output layer\n",
    "    regressor.add(Dense(units=1))\n",
    "    \n",
    "    # Compiling the RNN\n",
    "    regressor.compile(optimizer='adam',loss='mean_squared_error')\n",
    "    \n",
    "    print('Choisissez le nombre d\\'epoch')\n",
    "    n_epochs = int(input())\n",
    "    print('Choisissez le batch_size')\n",
    "    ze_batch_size = int(input())\n",
    "    # Fitting to the training set\n",
    "    regressor.fit(X_train,y_train,epochs=n_epochs,batch_size=ze_batch_size)\n",
    "    \n",
    "    test = pd.read_csv('Google_Stock_Price_Test.csv', index_col='Date', parse_dates=['Date'])\n",
    "    real_stock_price = test.iloc[:, 1:2].values\n",
    "    total_data=pd.concat([df['Open'],test['Open']],axis=0)\n",
    "    \n",
    "    inputs = total_data[len(df)-len(test)-60:].values\n",
    "    inputs = inputs.reshape(-1,1)\n",
    "    inputs = sc.transform(inputs)\n",
    "\n",
    "    X_test=[]\n",
    "    for i in range(60,80):\n",
    "        X_test.append(inputs[i-60:i,0])\n",
    "    X_test=np.array(X_test)\n",
    "    X_test.shape\n",
    "    X_test=np.reshape(X_test,(X_test.shape[0],X_test.shape[1],1))\n",
    "    \n",
    "    predicted_stock_price = regressor.predict(X_test)\n",
    "    predicted_stock_price = sc.inverse_transform(predicted_stock_price)\n",
    "    return predicted_stock_price\n",
    "    \n",
    "    "
   ]
  },
  {
   "cell_type": "code",
   "execution_count": 7,
   "id": "0c8d3bfe",
   "metadata": {},
   "outputs": [],
   "source": [
    "def LSTM_first_layer():\n",
    "    global dropout_LSTM_layer, X_train, regressor\n",
    "    print('Combien d\\'units mettre dans cette couche ? (50 de base)')\n",
    "    LSTM_units = int(input())\n",
    "    if LSTM_units == '':\n",
    "        LSTM_units = 50\n",
    "    regressor.add(LSTM(units=LSTM_units, return_sequences=True, input_shape=(X_train.shape[1],1)))\n",
    "    regressor.add(Dropout(dropout_LSTM_layer))"
   ]
  },
  {
   "cell_type": "code",
   "execution_count": 8,
   "id": "64274b1a",
   "metadata": {},
   "outputs": [],
   "source": [
    "def LSTM_layer():\n",
    "    global LSTM_layers, dropout_LSTM_layer, regressor\n",
    "    print('Combien d\\'units mettre dans cette couche ? (50 de base)')\n",
    "    LSTM_units = int(input())\n",
    "    if LSTM_units == '':\n",
    "        LSTM_units = 50\n",
    "    regressor.add(LSTM(units=LSTM_units, return_sequences=True))\n",
    "    regressor.add(Dropout(dropout_LSTM_layer))"
   ]
  },
  {
   "cell_type": "code",
   "execution_count": 9,
   "id": "a8c5ca83",
   "metadata": {},
   "outputs": [],
   "source": [
    "def return_rmse():\n",
    "    global test, predicted_stock_price\n",
    "    \n",
    "    rmse = math.sqrt(mean_squared_error(test, predicted_stock_price))\n",
    "    print(\"The root mean squared error is {}.\".format(rmse))"
   ]
  },
  {
   "cell_type": "markdown",
   "id": "572c8910",
   "metadata": {},
   "source": [
    "## Standardisation et Echantillonage"
   ]
  },
  {
   "cell_type": "raw",
   "id": "9d5b773c",
   "metadata": {},
   "source": [
    "training_set = df.iloc[:,1:2].values"
   ]
  },
  {
   "cell_type": "raw",
   "id": "2575d3bc",
   "metadata": {},
   "source": [
    "sc = MinMaxScaler(feature_range = (0, 1))\n",
    "training_set_scaled = sc.fit_transform(training_set)"
   ]
  },
  {
   "cell_type": "raw",
   "id": "561af6b1",
   "metadata": {},
   "source": [
    "X_train=[]\n",
    "y_train=[]\n",
    "for i in range(60, 1258):\n",
    "    X_train.append(training_set_scaled[i-60:i,0])\n",
    "    y_train.append(training_set_scaled[i,0])\n",
    "X_train, y_train = np.array(X_train), np.array(y_train)"
   ]
  },
  {
   "cell_type": "raw",
   "id": "8922f642",
   "metadata": {},
   "source": [
    "X_train = np.reshape(X_train, (X_train.shape[0], X_train.shape[1], 1))"
   ]
  },
  {
   "cell_type": "markdown",
   "id": "9cda1c7b",
   "metadata": {},
   "source": [
    "## Création du modèle LSTM"
   ]
  },
  {
   "cell_type": "code",
   "execution_count": 12,
   "id": "208d81c9",
   "metadata": {
    "scrolled": false
   },
   "outputs": [
    {
     "name": "stdout",
     "output_type": "stream",
     "text": [
      "Entrer le nombre de couches LSTM que vous voulez\n",
      "2\n",
      "Choisissez le taux de Dropout pour ces couches (0.1, 0.15, 0.2...)\n",
      "0.2\n",
      "Choisissez le nombre d'epoch\n",
      "4\n",
      "Choisissez le batch_size\n",
      "4\n",
      "Epoch 1/4\n",
      "300/300 [==============================] - 24s 57ms/step - loss: 0.0872\n",
      "Epoch 2/4\n",
      "300/300 [==============================] - 17s 55ms/step - loss: 0.0776\n",
      "Epoch 3/4\n",
      "300/300 [==============================] - 17s 56ms/step - loss: 0.0741 0\n",
      "Epoch 4/4\n",
      "300/300 [==============================] - 16s 55ms/step - loss: 0.0751\n"
     ]
    },
    {
     "ename": "ValueError",
     "evalue": "Found array with dim 3. Estimator expected <= 2.",
     "output_type": "error",
     "traceback": [
      "\u001b[1;31m---------------------------------------------------------------------------\u001b[0m",
      "\u001b[1;31mValueError\u001b[0m                                Traceback (most recent call last)",
      "\u001b[1;32m<ipython-input-12-3876033efa86>\u001b[0m in \u001b[0;36m<module>\u001b[1;34m\u001b[0m\n\u001b[1;32m----> 1\u001b[1;33m \u001b[0mmodel\u001b[0m\u001b[1;33m(\u001b[0m\u001b[1;33m)\u001b[0m\u001b[1;33m\u001b[0m\u001b[1;33m\u001b[0m\u001b[0m\n\u001b[0m",
      "\u001b[1;32m<ipython-input-11-82aadb2aa958>\u001b[0m in \u001b[0;36mmodel\u001b[1;34m()\u001b[0m\n\u001b[0;32m     63\u001b[0m \u001b[1;33m\u001b[0m\u001b[0m\n\u001b[0;32m     64\u001b[0m     \u001b[0mpredicted_stock_price\u001b[0m \u001b[1;33m=\u001b[0m \u001b[0mregressor\u001b[0m\u001b[1;33m.\u001b[0m\u001b[0mpredict\u001b[0m\u001b[1;33m(\u001b[0m\u001b[0mX_test\u001b[0m\u001b[1;33m)\u001b[0m\u001b[1;33m\u001b[0m\u001b[1;33m\u001b[0m\u001b[0m\n\u001b[1;32m---> 65\u001b[1;33m     \u001b[0mpredicted_stock_price\u001b[0m \u001b[1;33m=\u001b[0m \u001b[0msc\u001b[0m\u001b[1;33m.\u001b[0m\u001b[0minverse_transform\u001b[0m\u001b[1;33m(\u001b[0m\u001b[0mpredicted_stock_price\u001b[0m\u001b[1;33m)\u001b[0m\u001b[1;33m\u001b[0m\u001b[1;33m\u001b[0m\u001b[0m\n\u001b[0m\u001b[0;32m     66\u001b[0m     \u001b[1;32mreturn\u001b[0m \u001b[0mpredicted_stock_price\u001b[0m\u001b[1;33m\u001b[0m\u001b[1;33m\u001b[0m\u001b[0m\n\u001b[0;32m     67\u001b[0m \u001b[1;33m\u001b[0m\u001b[0m\n",
      "\u001b[1;32m~\\anaconda3\\lib\\site-packages\\sklearn\\preprocessing\\_data.py\u001b[0m in \u001b[0;36minverse_transform\u001b[1;34m(self, X)\u001b[0m\n\u001b[0;32m    456\u001b[0m         \u001b[0mcheck_is_fitted\u001b[0m\u001b[1;33m(\u001b[0m\u001b[0mself\u001b[0m\u001b[1;33m)\u001b[0m\u001b[1;33m\u001b[0m\u001b[1;33m\u001b[0m\u001b[0m\n\u001b[0;32m    457\u001b[0m \u001b[1;33m\u001b[0m\u001b[0m\n\u001b[1;32m--> 458\u001b[1;33m         X = check_array(X, copy=self.copy, dtype=FLOAT_DTYPES,\n\u001b[0m\u001b[0;32m    459\u001b[0m                         force_all_finite=\"allow-nan\")\n\u001b[0;32m    460\u001b[0m \u001b[1;33m\u001b[0m\u001b[0m\n",
      "\u001b[1;32m~\\anaconda3\\lib\\site-packages\\sklearn\\utils\\validation.py\u001b[0m in \u001b[0;36minner_f\u001b[1;34m(*args, **kwargs)\u001b[0m\n\u001b[0;32m     61\u001b[0m             \u001b[0mextra_args\u001b[0m \u001b[1;33m=\u001b[0m \u001b[0mlen\u001b[0m\u001b[1;33m(\u001b[0m\u001b[0margs\u001b[0m\u001b[1;33m)\u001b[0m \u001b[1;33m-\u001b[0m \u001b[0mlen\u001b[0m\u001b[1;33m(\u001b[0m\u001b[0mall_args\u001b[0m\u001b[1;33m)\u001b[0m\u001b[1;33m\u001b[0m\u001b[1;33m\u001b[0m\u001b[0m\n\u001b[0;32m     62\u001b[0m             \u001b[1;32mif\u001b[0m \u001b[0mextra_args\u001b[0m \u001b[1;33m<=\u001b[0m \u001b[1;36m0\u001b[0m\u001b[1;33m:\u001b[0m\u001b[1;33m\u001b[0m\u001b[1;33m\u001b[0m\u001b[0m\n\u001b[1;32m---> 63\u001b[1;33m                 \u001b[1;32mreturn\u001b[0m \u001b[0mf\u001b[0m\u001b[1;33m(\u001b[0m\u001b[1;33m*\u001b[0m\u001b[0margs\u001b[0m\u001b[1;33m,\u001b[0m \u001b[1;33m**\u001b[0m\u001b[0mkwargs\u001b[0m\u001b[1;33m)\u001b[0m\u001b[1;33m\u001b[0m\u001b[1;33m\u001b[0m\u001b[0m\n\u001b[0m\u001b[0;32m     64\u001b[0m \u001b[1;33m\u001b[0m\u001b[0m\n\u001b[0;32m     65\u001b[0m             \u001b[1;31m# extra_args > 0\u001b[0m\u001b[1;33m\u001b[0m\u001b[1;33m\u001b[0m\u001b[1;33m\u001b[0m\u001b[0m\n",
      "\u001b[1;32m~\\anaconda3\\lib\\site-packages\\sklearn\\utils\\validation.py\u001b[0m in \u001b[0;36mcheck_array\u001b[1;34m(array, accept_sparse, accept_large_sparse, dtype, order, copy, force_all_finite, ensure_2d, allow_nd, ensure_min_samples, ensure_min_features, estimator)\u001b[0m\n\u001b[0;32m    657\u001b[0m                     \"into decimal numbers with dtype='numeric'\") from e\n\u001b[0;32m    658\u001b[0m         \u001b[1;32mif\u001b[0m \u001b[1;32mnot\u001b[0m \u001b[0mallow_nd\u001b[0m \u001b[1;32mand\u001b[0m \u001b[0marray\u001b[0m\u001b[1;33m.\u001b[0m\u001b[0mndim\u001b[0m \u001b[1;33m>=\u001b[0m \u001b[1;36m3\u001b[0m\u001b[1;33m:\u001b[0m\u001b[1;33m\u001b[0m\u001b[1;33m\u001b[0m\u001b[0m\n\u001b[1;32m--> 659\u001b[1;33m             raise ValueError(\"Found array with dim %d. %s expected <= 2.\"\n\u001b[0m\u001b[0;32m    660\u001b[0m                              % (array.ndim, estimator_name))\n\u001b[0;32m    661\u001b[0m \u001b[1;33m\u001b[0m\u001b[0m\n",
      "\u001b[1;31mValueError\u001b[0m: Found array with dim 3. Estimator expected <= 2."
     ]
    }
   ],
   "source": [
    "model()"
   ]
  },
  {
   "cell_type": "markdown",
   "id": "dc58dc1f",
   "metadata": {},
   "source": [
    "## Test et vérifs"
   ]
  },
  {
   "cell_type": "raw",
   "id": "22feddfc",
   "metadata": {},
   "source": [
    "test = pd.read_csv('Google_Stock_Price_Test.csv', index_col='Date', parse_dates=['Date'])\n",
    "real_stock_price = test.iloc[:, 1:2].values\n",
    "total_data=pd.concat([df['Open'],test['Open']],axis=0)"
   ]
  },
  {
   "cell_type": "raw",
   "id": "059f1f3d",
   "metadata": {},
   "source": [
    "inputs = total_data[len(df)-len(test)-60:].values\n",
    "inputs = inputs.reshape(-1,1)\n",
    "inputs = sc.transform(inputs)"
   ]
  },
  {
   "cell_type": "raw",
   "id": "7af06d9d",
   "metadata": {},
   "source": [
    "X_test=[]\n",
    "for i in range(60,80):\n",
    "    X_test.append(inputs[i-60:i,0])\n",
    "X_test=np.array(X_test)\n",
    "X_test.shape\n",
    "X_test=np.reshape(X_test,(X_test.shape[0],X_test.shape[1],1))"
   ]
  },
  {
   "cell_type": "raw",
   "id": "6ae088fe",
   "metadata": {},
   "source": [
    "X_test.shape"
   ]
  },
  {
   "cell_type": "raw",
   "id": "a7a42518",
   "metadata": {},
   "source": [
    "\n",
    "\n",
    "predicted_stock_price = regressor.predict(X_test)\n",
    "predicted_stock_price = sc.inverse_transform(predicted_stock_price)"
   ]
  },
  {
   "cell_type": "raw",
   "id": "531b9896",
   "metadata": {},
   "source": [
    "predicted_stock_price.shape"
   ]
  },
  {
   "cell_type": "code",
   "execution_count": null,
   "id": "01fff02c",
   "metadata": {},
   "outputs": [],
   "source": [
    "return_rmse()"
   ]
  }
 ],
 "metadata": {
  "kernelspec": {
   "display_name": "Python 3",
   "language": "python",
   "name": "python3"
  },
  "language_info": {
   "codemirror_mode": {
    "name": "ipython",
    "version": 3
   },
   "file_extension": ".py",
   "mimetype": "text/x-python",
   "name": "python",
   "nbconvert_exporter": "python",
   "pygments_lexer": "ipython3",
   "version": "3.8.8"
  }
 },
 "nbformat": 4,
 "nbformat_minor": 5
}
