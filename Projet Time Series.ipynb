{
 "cells": [
  {
   "cell_type": "markdown",
   "id": "65c839de",
   "metadata": {
    "heading_collapsed": true
   },
   "source": [
    "# 📈 Prédire la valeur de l’action Google dans le futur"
   ]
  },
  {
   "cell_type": "markdown",
   "id": "b9fde8c5",
   "metadata": {
    "code_folding": [],
    "hidden": true
   },
   "source": [
    "**Contexte :** <blockquote> Vous êtes datascientist chez Google en charge d'un nouveau projet autour de TimeSeries. Votre premier projet consiste à proposer une solution permettant de prédire la tendance de l'action Google dans le futur et de former une nouvelle équipe de datascientists (juniors) sur les RNN et en particulier les LSTM.\n",
    "\n",
    "    \n",
    "Pour réaliser ce projet, vous avez accés à deux datasets :\n",
    "* Dataset Train : 5 années d’historique de l’action google 2012 - 2016\n",
    "* Dataset Test : un mois de données Janvier 2017\n",
    "\n",
    "Développer une solution basée sur les réseaux de neurones récurrents de type LSTM et permettant de prédire l'action Google dans le futur</blockquote> "
   ]
  },
  {
   "cell_type": "markdown",
   "id": "e386de3b",
   "metadata": {},
   "source": [
    "# 👩🏻‍💻 Exploration des données"
   ]
  },
  {
   "cell_type": "markdown",
   "id": "8e115b10",
   "metadata": {
    "heading_collapsed": true
   },
   "source": [
    "## Imports"
   ]
  },
  {
   "cell_type": "markdown",
   "id": "34d0f0fc",
   "metadata": {
    "hidden": true
   },
   "source": [
    "🔎 Import Librairies"
   ]
  },
  {
   "cell_type": "code",
   "execution_count": 1,
   "id": "4425b344",
   "metadata": {
    "hidden": true
   },
   "outputs": [],
   "source": [
    "import pandas as pd\n",
    "import numpy as np\n",
    "import seaborn as sns\n",
    "import matplotlib.pyplot as plt\n",
    "import datetime"
   ]
  },
  {
   "cell_type": "markdown",
   "id": "975c82a5",
   "metadata": {},
   "source": [
    "## Fonctions"
   ]
  },
  {
   "cell_type": "code",
   "execution_count": 2,
   "id": "10e94176",
   "metadata": {},
   "outputs": [],
   "source": [
    "def plot_predictions(test,predicted):\n",
    "    plt.plot(test['Open'], color='red',label='Real Google Stock Price')\n",
    "    plt.plot(predicted, color='blue',label='Predicted Google Stock Price')\n",
    "    plt.title('Google Stock Price Prediction')\n",
    "    plt.xlabel('Time')\n",
    "    plt.ylabel('Google Stock Price')\n",
    "    plt.legend()\n",
    "    plt.show()"
   ]
  },
  {
   "cell_type": "code",
   "execution_count": 3,
   "id": "6e13ebc5",
   "metadata": {},
   "outputs": [],
   "source": [
    "def return_rmse(test,predicted):\n",
    "    rmse = math.sqrt(mean_squared_error(test, predicted))\n",
    "    print(\"The root mean squared error is {}.\".format(rmse))"
   ]
  },
  {
   "cell_type": "markdown",
   "id": "641a0b98",
   "metadata": {
    "hidden": true
   },
   "source": [
    "🔎 Import Dataset"
   ]
  },
  {
   "cell_type": "code",
   "execution_count": 4,
   "id": "e0cbda6d",
   "metadata": {
    "hidden": true
   },
   "outputs": [
    {
     "data": {
      "text/html": [
       "<div>\n",
       "<style scoped>\n",
       "    .dataframe tbody tr th:only-of-type {\n",
       "        vertical-align: middle;\n",
       "    }\n",
       "\n",
       "    .dataframe tbody tr th {\n",
       "        vertical-align: top;\n",
       "    }\n",
       "\n",
       "    .dataframe thead th {\n",
       "        text-align: right;\n",
       "    }\n",
       "</style>\n",
       "<table border=\"1\" class=\"dataframe\">\n",
       "  <thead>\n",
       "    <tr style=\"text-align: right;\">\n",
       "      <th></th>\n",
       "      <th>Open</th>\n",
       "      <th>High</th>\n",
       "      <th>Low</th>\n",
       "      <th>Close</th>\n",
       "      <th>Volume</th>\n",
       "    </tr>\n",
       "    <tr>\n",
       "      <th>Date</th>\n",
       "      <th></th>\n",
       "      <th></th>\n",
       "      <th></th>\n",
       "      <th></th>\n",
       "      <th></th>\n",
       "    </tr>\n",
       "  </thead>\n",
       "  <tbody>\n",
       "    <tr>\n",
       "      <th>2012-01-03</th>\n",
       "      <td>325.25</td>\n",
       "      <td>332.83</td>\n",
       "      <td>324.97</td>\n",
       "      <td>663.59</td>\n",
       "      <td>7,380,500</td>\n",
       "    </tr>\n",
       "    <tr>\n",
       "      <th>2012-01-04</th>\n",
       "      <td>331.27</td>\n",
       "      <td>333.87</td>\n",
       "      <td>329.08</td>\n",
       "      <td>666.45</td>\n",
       "      <td>5,749,400</td>\n",
       "    </tr>\n",
       "    <tr>\n",
       "      <th>2012-01-05</th>\n",
       "      <td>329.83</td>\n",
       "      <td>330.75</td>\n",
       "      <td>326.89</td>\n",
       "      <td>657.21</td>\n",
       "      <td>6,590,300</td>\n",
       "    </tr>\n",
       "    <tr>\n",
       "      <th>2012-01-06</th>\n",
       "      <td>328.34</td>\n",
       "      <td>328.77</td>\n",
       "      <td>323.68</td>\n",
       "      <td>648.24</td>\n",
       "      <td>5,405,900</td>\n",
       "    </tr>\n",
       "    <tr>\n",
       "      <th>2012-01-09</th>\n",
       "      <td>322.04</td>\n",
       "      <td>322.29</td>\n",
       "      <td>309.46</td>\n",
       "      <td>620.76</td>\n",
       "      <td>11,688,800</td>\n",
       "    </tr>\n",
       "  </tbody>\n",
       "</table>\n",
       "</div>"
      ],
      "text/plain": [
       "              Open    High     Low   Close      Volume\n",
       "Date                                                  \n",
       "2012-01-03  325.25  332.83  324.97  663.59   7,380,500\n",
       "2012-01-04  331.27  333.87  329.08  666.45   5,749,400\n",
       "2012-01-05  329.83  330.75  326.89  657.21   6,590,300\n",
       "2012-01-06  328.34  328.77  323.68  648.24   5,405,900\n",
       "2012-01-09  322.04  322.29  309.46  620.76  11,688,800"
      ]
     },
     "execution_count": 4,
     "metadata": {},
     "output_type": "execute_result"
    }
   ],
   "source": [
    "df = pd.read_csv('Google_Stock_Price_Train.csv', index_col='Date', parse_dates=['Date'])\n",
    "df.head()"
   ]
  },
  {
   "cell_type": "code",
   "execution_count": 5,
   "id": "66423031",
   "metadata": {
    "hidden": true
   },
   "outputs": [],
   "source": [
    "#df = pd.read_csv?\n",
    "#df"
   ]
  },
  {
   "cell_type": "markdown",
   "id": "0e348df7",
   "metadata": {
    "heading_collapsed": true
   },
   "source": [
    "## Informations des données"
   ]
  },
  {
   "cell_type": "code",
   "execution_count": 6,
   "id": "23d1fced",
   "metadata": {
    "hidden": true
   },
   "outputs": [
    {
     "data": {
      "text/plain": [
       "(1258, 5)"
      ]
     },
     "execution_count": 6,
     "metadata": {},
     "output_type": "execute_result"
    }
   ],
   "source": [
    "df.shape"
   ]
  },
  {
   "cell_type": "markdown",
   "id": "7d71a64f",
   "metadata": {
    "hidden": true
   },
   "source": [
    "🔎 Data Information"
   ]
  },
  {
   "cell_type": "code",
   "execution_count": 7,
   "id": "cb55baa2",
   "metadata": {
    "hidden": true
   },
   "outputs": [
    {
     "name": "stdout",
     "output_type": "stream",
     "text": [
      "<class 'pandas.core.frame.DataFrame'>\n",
      "DatetimeIndex: 1258 entries, 2012-01-03 to 2016-12-30\n",
      "Data columns (total 5 columns):\n",
      " #   Column  Non-Null Count  Dtype  \n",
      "---  ------  --------------  -----  \n",
      " 0   Open    1258 non-null   float64\n",
      " 1   High    1258 non-null   float64\n",
      " 2   Low     1258 non-null   float64\n",
      " 3   Close   1258 non-null   object \n",
      " 4   Volume  1258 non-null   object \n",
      "dtypes: float64(3), object(2)\n",
      "memory usage: 59.0+ KB\n"
     ]
    }
   ],
   "source": [
    "df.info()"
   ]
  },
  {
   "cell_type": "markdown",
   "id": "42b23941",
   "metadata": {
    "hidden": true
   },
   "source": [
    "🔎 Data Descriptive"
   ]
  },
  {
   "cell_type": "code",
   "execution_count": 8,
   "id": "e2abced7",
   "metadata": {
    "hidden": true
   },
   "outputs": [
    {
     "data": {
      "text/html": [
       "<div>\n",
       "<style scoped>\n",
       "    .dataframe tbody tr th:only-of-type {\n",
       "        vertical-align: middle;\n",
       "    }\n",
       "\n",
       "    .dataframe tbody tr th {\n",
       "        vertical-align: top;\n",
       "    }\n",
       "\n",
       "    .dataframe thead th {\n",
       "        text-align: right;\n",
       "    }\n",
       "</style>\n",
       "<table border=\"1\" class=\"dataframe\">\n",
       "  <thead>\n",
       "    <tr style=\"text-align: right;\">\n",
       "      <th></th>\n",
       "      <th>Open</th>\n",
       "      <th>High</th>\n",
       "      <th>Low</th>\n",
       "    </tr>\n",
       "  </thead>\n",
       "  <tbody>\n",
       "    <tr>\n",
       "      <th>count</th>\n",
       "      <td>1258.000000</td>\n",
       "      <td>1258.000000</td>\n",
       "      <td>1258.000000</td>\n",
       "    </tr>\n",
       "    <tr>\n",
       "      <th>mean</th>\n",
       "      <td>533.709833</td>\n",
       "      <td>537.880223</td>\n",
       "      <td>529.007409</td>\n",
       "    </tr>\n",
       "    <tr>\n",
       "      <th>std</th>\n",
       "      <td>151.904442</td>\n",
       "      <td>153.008811</td>\n",
       "      <td>150.552807</td>\n",
       "    </tr>\n",
       "    <tr>\n",
       "      <th>min</th>\n",
       "      <td>279.120000</td>\n",
       "      <td>281.210000</td>\n",
       "      <td>277.220000</td>\n",
       "    </tr>\n",
       "    <tr>\n",
       "      <th>25%</th>\n",
       "      <td>404.115000</td>\n",
       "      <td>406.765000</td>\n",
       "      <td>401.765000</td>\n",
       "    </tr>\n",
       "    <tr>\n",
       "      <th>50%</th>\n",
       "      <td>537.470000</td>\n",
       "      <td>540.750000</td>\n",
       "      <td>532.990000</td>\n",
       "    </tr>\n",
       "    <tr>\n",
       "      <th>75%</th>\n",
       "      <td>654.922500</td>\n",
       "      <td>662.587500</td>\n",
       "      <td>644.800000</td>\n",
       "    </tr>\n",
       "    <tr>\n",
       "      <th>max</th>\n",
       "      <td>816.680000</td>\n",
       "      <td>816.680000</td>\n",
       "      <td>805.140000</td>\n",
       "    </tr>\n",
       "  </tbody>\n",
       "</table>\n",
       "</div>"
      ],
      "text/plain": [
       "              Open         High          Low\n",
       "count  1258.000000  1258.000000  1258.000000\n",
       "mean    533.709833   537.880223   529.007409\n",
       "std     151.904442   153.008811   150.552807\n",
       "min     279.120000   281.210000   277.220000\n",
       "25%     404.115000   406.765000   401.765000\n",
       "50%     537.470000   540.750000   532.990000\n",
       "75%     654.922500   662.587500   644.800000\n",
       "max     816.680000   816.680000   805.140000"
      ]
     },
     "execution_count": 8,
     "metadata": {},
     "output_type": "execute_result"
    }
   ],
   "source": [
    "df.describe()"
   ]
  },
  {
   "cell_type": "markdown",
   "id": "4ac1e105",
   "metadata": {
    "hidden": true
   },
   "source": [
    "🔎 Types de données"
   ]
  },
  {
   "cell_type": "code",
   "execution_count": 9,
   "id": "ed523425",
   "metadata": {
    "hidden": true
   },
   "outputs": [
    {
     "data": {
      "text/plain": [
       "float64    3\n",
       "object     2\n",
       "dtype: int64"
      ]
     },
     "execution_count": 9,
     "metadata": {},
     "output_type": "execute_result"
    }
   ],
   "source": [
    "df.dtypes.value_counts()"
   ]
  },
  {
   "cell_type": "code",
   "execution_count": 10,
   "id": "978c4a43",
   "metadata": {
    "hidden": true
   },
   "outputs": [
    {
     "data": {
      "text/plain": [
       "Open      float64\n",
       "High      float64\n",
       "Low       float64\n",
       "Close      object\n",
       "Volume     object\n",
       "dtype: object"
      ]
     },
     "execution_count": 10,
     "metadata": {},
     "output_type": "execute_result"
    }
   ],
   "source": [
    "df.dtypes"
   ]
  },
  {
   "cell_type": "markdown",
   "id": "4cc858e3",
   "metadata": {
    "hidden": true
   },
   "source": [
    "🔎 Valeurs manquantes"
   ]
  },
  {
   "cell_type": "code",
   "execution_count": 11,
   "id": "6c0787a9",
   "metadata": {
    "hidden": true
   },
   "outputs": [
    {
     "data": {
      "text/plain": [
       "Open      0\n",
       "High      0\n",
       "Low       0\n",
       "Close     0\n",
       "Volume    0\n",
       "dtype: int64"
      ]
     },
     "execution_count": 11,
     "metadata": {},
     "output_type": "execute_result"
    }
   ],
   "source": [
    "df.isnull().sum().sort_values()"
   ]
  },
  {
   "cell_type": "markdown",
   "id": "2d320525",
   "metadata": {
    "hidden": true
   },
   "source": [
    "🔎 Duplicates"
   ]
  },
  {
   "cell_type": "code",
   "execution_count": 12,
   "id": "4e16a9cb",
   "metadata": {
    "hidden": true
   },
   "outputs": [
    {
     "data": {
      "text/plain": [
       "0"
      ]
     },
     "execution_count": 12,
     "metadata": {},
     "output_type": "execute_result"
    }
   ],
   "source": [
    "df.duplicated().sum()"
   ]
  },
  {
   "cell_type": "markdown",
   "id": "700a2349",
   "metadata": {},
   "source": [
    "# 🎨 Visualisations"
   ]
  },
  {
   "cell_type": "code",
   "execution_count": 13,
   "id": "0632c269",
   "metadata": {},
   "outputs": [
    {
     "data": {
      "image/png": "[encoded data removed]",
      "text/plain": [
       "<Figure size 576x576 with 3 Axes>"
      ]
     },
     "metadata": {
      "needs_background": "light"
     },
     "output_type": "display_data"
    }
   ],
   "source": [
    "df.plot(subplots=True, figsize=(8,8))\n",
    "plt.title('Google stock attributes from 2012 to 2017')\n",
    "plt.show()"
   ]
  },
  {
   "cell_type": "markdown",
   "id": "744085bf",
   "metadata": {},
   "source": [
    "# 🌌Preprocessing"
   ]
  },
  {
   "cell_type": "markdown",
   "id": "7eae0b6c",
   "metadata": {},
   "source": [
    "## Import librairies"
   ]
  },
  {
   "cell_type": "code",
   "execution_count": 14,
   "id": "3098accd",
   "metadata": {},
   "outputs": [],
   "source": [
    "from sklearn.model_selection import train_test_split\n",
    "from sklearn.preprocessing import MinMaxScaler\n",
    "from keras.models import Sequential\n",
    "import tensorflow as tf\n",
    "from tensorflow.keras.layers import Conv1D, LSTM, Dense, Dropout\n",
    "from tensorflow.keras.layers import MaxPooling1D, Flatten\n",
    "from tensorflow.keras.regularizers import L1, L2\n",
    "from tensorflow.keras.metrics import Accuracy\n",
    "from tensorflow.keras.metrics import RootMeanSquaredError"
   ]
  },
  {
   "cell_type": "markdown",
   "id": "c58402a8",
   "metadata": {},
   "source": [
    "## Standardisation et Echantillonnage"
   ]
  },
  {
   "cell_type": "code",
   "execution_count": 15,
   "id": "d9fe08d3",
   "metadata": {},
   "outputs": [],
   "source": [
    "training_set = df.iloc[:,1:2].values"
   ]
  },
  {
   "cell_type": "code",
   "execution_count": 16,
   "id": "3afb51e4",
   "metadata": {},
   "outputs": [],
   "source": [
    "sc = MinMaxScaler()\n",
    "training_set_scaled = sc.fit_transform(training_set)"
   ]
  },
  {
   "cell_type": "code",
   "execution_count": 17,
   "id": "966421b0",
   "metadata": {},
   "outputs": [],
   "source": [
    "X_train=[]\n",
    "y_train=[]\n",
    "for i in range(20, 1258):\n",
    "    X_train.append(training_set_scaled[i-20:i,0])\n",
    "    y_train.append(training_set_scaled[i,0])\n",
    "X_train, y_train = np.array(X_train), np.array(y_train)"
   ]
  },
  {
   "cell_type": "code",
   "execution_count": 18,
   "id": "75cead35",
   "metadata": {},
   "outputs": [
    {
     "data": {
      "text/plain": [
       "(1258, 1)"
      ]
     },
     "execution_count": 18,
     "metadata": {},
     "output_type": "execute_result"
    }
   ],
   "source": [
    "training_set_scaled.shape"
   ]
  },
  {
   "cell_type": "code",
   "execution_count": 19,
   "id": "71dd8907",
   "metadata": {},
   "outputs": [],
   "source": [
    "X_train = np.reshape(X_train, (X_train.shape[0], X_train.shape[1], 1))"
   ]
  },
  {
   "cell_type": "code",
   "execution_count": 20,
   "id": "ebdaa4e1",
   "metadata": {},
   "outputs": [
    {
     "data": {
      "text/plain": [
       "(1238, 20, 1)"
      ]
     },
     "execution_count": 20,
     "metadata": {},
     "output_type": "execute_result"
    }
   ],
   "source": [
    "X_train.shape"
   ]
  },
  {
   "cell_type": "code",
   "execution_count": 21,
   "id": "1e137d0c",
   "metadata": {},
   "outputs": [
    {
     "data": {
      "text/plain": [
       "(1238,)"
      ]
     },
     "execution_count": 21,
     "metadata": {},
     "output_type": "execute_result"
    }
   ],
   "source": [
    "y_train.shape"
   ]
  },
  {
   "cell_type": "markdown",
   "id": "2c697338",
   "metadata": {},
   "source": [
    "# 🔢 Modèles"
   ]
  },
  {
   "cell_type": "code",
   "execution_count": 22,
   "id": "c529495f",
   "metadata": {},
   "outputs": [],
   "source": [
    "regressor = Sequential()"
   ]
  },
  {
   "cell_type": "code",
   "execution_count": 23,
   "id": "f687c06c",
   "metadata": {},
   "outputs": [],
   "source": [
    "regressor.add(LSTM(units=30,return_sequences=True,input_shape=(X_train.shape[1], 1)))\n",
    "regressor.add(Dropout(0.4))"
   ]
  },
  {
   "cell_type": "code",
   "execution_count": 24,
   "id": "b4a90b92",
   "metadata": {},
   "outputs": [],
   "source": [
    "regressor.add(LSTM(units=100,return_sequences=True))\n",
    "regressor.add(Dropout(0.6))"
   ]
  },
  {
   "cell_type": "code",
   "execution_count": 25,
   "id": "c173e4f1",
   "metadata": {},
   "outputs": [],
   "source": [
    "regressor.add(LSTM(units=100))\n",
    "regressor.add(Dropout(0.4))"
   ]
  },
  {
   "cell_type": "code",
   "execution_count": 26,
   "id": "cfe7e5ac",
   "metadata": {},
   "outputs": [],
   "source": [
    "regressor.compile(optimizer='adam',loss='mean_squared_error')"
   ]
  },
  {
   "cell_type": "code",
   "execution_count": 27,
   "id": "a33a1950",
   "metadata": {
    "scrolled": true
   },
   "outputs": [
    {
     "name": "stdout",
     "output_type": "stream",
     "text": [
      "Epoch 1/50\n",
      "39/39 [==============================] - 9s 48ms/step - loss: 0.1793\n",
      "Epoch 2/50\n",
      "39/39 [==============================] - 2s 56ms/step - loss: 0.1308\n",
      "Epoch 3/50\n",
      "39/39 [==============================] - 2s 51ms/step - loss: 0.1292\n",
      "Epoch 4/50\n",
      "39/39 [==============================] - 2s 47ms/step - loss: 0.1289\n",
      "Epoch 5/50\n",
      "39/39 [==============================] - 2s 52ms/step - loss: 0.1281\n",
      "Epoch 6/50\n",
      "39/39 [==============================] - 2s 48ms/step - loss: 0.1284\n",
      "Epoch 7/50\n",
      "39/39 [==============================] - 2s 47ms/step - loss: 0.1292\n",
      "Epoch 8/50\n",
      "39/39 [==============================] - 2s 48ms/step - loss: 0.1280\n",
      "Epoch 9/50\n",
      "39/39 [==============================] - 2s 47ms/step - loss: 0.1288\n",
      "Epoch 10/50\n",
      "39/39 [==============================] - 2s 47ms/step - loss: 0.1276\n",
      "Epoch 11/50\n",
      "39/39 [==============================] - 2s 47ms/step - loss: 0.1291\n",
      "Epoch 12/50\n",
      "39/39 [==============================] - 2s 47ms/step - loss: 0.1275\n",
      "Epoch 13/50\n",
      "39/39 [==============================] - 2s 47ms/step - loss: 0.1275\n",
      "Epoch 14/50\n",
      "39/39 [==============================] - 2s 47ms/step - loss: 0.1271\n",
      "Epoch 15/50\n",
      "39/39 [==============================] - 2s 47ms/step - loss: 0.1285\n",
      "Epoch 16/50\n",
      "39/39 [==============================] - 2s 48ms/step - loss: 0.1277\n",
      "Epoch 17/50\n",
      "39/39 [==============================] - 2s 47ms/step - loss: 0.1287\n",
      "Epoch 18/50\n",
      "39/39 [==============================] - 2s 47ms/step - loss: 0.1282\n",
      "Epoch 19/50\n",
      "39/39 [==============================] - 2s 48ms/step - loss: 0.1287\n",
      "Epoch 20/50\n",
      "39/39 [==============================] - 2s 47ms/step - loss: 0.1275\n",
      "Epoch 21/50\n",
      "39/39 [==============================] - 2s 47ms/step - loss: 0.1284\n",
      "Epoch 22/50\n",
      "39/39 [==============================] - 2s 48ms/step - loss: 0.1283\n",
      "Epoch 23/50\n",
      "39/39 [==============================] - 2s 47ms/step - loss: 0.1274\n",
      "Epoch 24/50\n",
      "39/39 [==============================] - 2s 47ms/step - loss: 0.1285\n",
      "Epoch 25/50\n",
      "39/39 [==============================] - 2s 48ms/step - loss: 0.1270\n",
      "Epoch 26/50\n",
      "39/39 [==============================] - 2s 56ms/step - loss: 0.1269\n",
      "Epoch 27/50\n",
      "39/39 [==============================] - 2s 62ms/step - loss: 0.1277\n",
      "Epoch 28/50\n",
      "39/39 [==============================] - 2s 63ms/step - loss: 0.1276\n",
      "Epoch 29/50\n",
      "39/39 [==============================] - 2s 63ms/step - loss: 0.1279\n",
      "Epoch 30/50\n",
      "39/39 [==============================] - 2s 49ms/step - loss: 0.1267\n",
      "Epoch 31/50\n",
      "39/39 [==============================] - 2s 48ms/step - loss: 0.1278\n",
      "Epoch 32/50\n",
      "39/39 [==============================] - 2s 49ms/step - loss: 0.1271\n",
      "Epoch 33/50\n",
      "39/39 [==============================] - 2s 52ms/step - loss: 0.1282\n",
      "Epoch 34/50\n",
      "39/39 [==============================] - 2s 47ms/step - loss: 0.1268\n",
      "Epoch 35/50\n",
      "39/39 [==============================] - 2s 50ms/step - loss: 0.1275\n",
      "Epoch 36/50\n",
      "39/39 [==============================] - 2s 49ms/step - loss: 0.1277\n",
      "Epoch 37/50\n",
      "39/39 [==============================] - 2s 49ms/step - loss: 0.1277\n",
      "Epoch 38/50\n",
      "39/39 [==============================] - 2s 51ms/step - loss: 0.1283\n",
      "Epoch 39/50\n",
      "39/39 [==============================] - 2s 52ms/step - loss: 0.1276\n",
      "Epoch 40/50\n",
      "39/39 [==============================] - 3s 67ms/step - loss: 0.1262\n",
      "Epoch 41/50\n",
      "39/39 [==============================] - 2s 56ms/step - loss: 0.1283\n",
      "Epoch 42/50\n",
      "39/39 [==============================] - 2s 55ms/step - loss: 0.1272\n",
      "Epoch 43/50\n",
      "39/39 [==============================] - 2s 55ms/step - loss: 0.1260\n",
      "Epoch 44/50\n",
      "39/39 [==============================] - 2s 54ms/step - loss: 0.1277\n",
      "Epoch 45/50\n",
      "39/39 [==============================] - 2s 53ms/step - loss: 0.1282\n",
      "Epoch 46/50\n",
      "39/39 [==============================] - 2s 48ms/step - loss: 0.1266\n",
      "Epoch 47/50\n",
      "39/39 [==============================] - 2s 47ms/step - loss: 0.1265\n",
      "Epoch 48/50\n",
      "39/39 [==============================] - 2s 48ms/step - loss: 0.1270\n",
      "Epoch 49/50\n",
      "39/39 [==============================] - 2s 47ms/step - loss: 0.1283\n",
      "Epoch 50/50\n",
      "39/39 [==============================] - 2s 48ms/step - loss: 0.1259\n"
     ]
    },
    {
     "data": {
      "text/plain": [
       "<keras.callbacks.History at 0x1e18e624520>"
      ]
     },
     "execution_count": 27,
     "metadata": {},
     "output_type": "execute_result"
    }
   ],
   "source": [
    "regressor.fit(X_train,y_train,epochs=50,batch_size=32)"
   ]
  },
  {
   "cell_type": "markdown",
   "id": "fc28dd82",
   "metadata": {},
   "source": [
    "# Modèle test"
   ]
  },
  {
   "cell_type": "code",
   "execution_count": 29,
   "id": "b1301299",
   "metadata": {},
   "outputs": [],
   "source": [
    "timesteps = datetime.timedelta(60)\n",
    "a = df[df.index==(test.index[0]-timesteps)]\n",
    "b = a.index\n",
    "test_2 = df.loc['2016-11-04':]"
   ]
  },
  {
   "cell_type": "code",
   "execution_count": 32,
   "id": "b2e7af9e",
   "metadata": {},
   "outputs": [],
   "source": [
    "test = pd.read_csv('Google_Stock_Price_Test.csv', index_col='Date', parse_dates=['Date'])\n",
    "real_stock_price = test.iloc[:, 1:2].values\n",
    "total_data=pd.concat([test_2['Open'],test['Open']],axis=0)"
   ]
  },
  {
   "cell_type": "code",
   "execution_count": 33,
   "id": "89014adf",
   "metadata": {},
   "outputs": [],
   "source": [
    "inputs = total_data[len(total_data)-len(test)-30:].values\n",
    "inputs = inputs.reshape(-1,1)\n",
    "inputs = sc.transform(inputs)"
   ]
  },
  {
   "cell_type": "code",
   "execution_count": 34,
   "id": "49fde1f4",
   "metadata": {},
   "outputs": [
    {
     "data": {
      "text/plain": [
       "59"
      ]
     },
     "execution_count": 34,
     "metadata": {},
     "output_type": "execute_result"
    }
   ],
   "source": [
    "len(total_data)"
   ]
  },
  {
   "cell_type": "code",
   "execution_count": 35,
   "id": "4c96657f",
   "metadata": {},
   "outputs": [
    {
     "data": {
      "text/plain": [
       "50"
      ]
     },
     "execution_count": 35,
     "metadata": {},
     "output_type": "execute_result"
    }
   ],
   "source": [
    "len(inputs)"
   ]
  },
  {
   "cell_type": "code",
   "execution_count": 41,
   "id": "937b8405",
   "metadata": {},
   "outputs": [],
   "source": [
    "X_test=[]\n",
    "#X_test.shape\n",
    "for i in range(20,49):\n",
    "    X_test.append(inputs[i-20:i,0])\n",
    "X_test=np.array(X_test)\n",
    "X_test=np.reshape(X_test,(X_test.shape[0],X_test.shape[1],1))\n",
    "predicted = regressor.predict(X_test)\n",
    "predicted = sc.inverse_transform(predicted)"
   ]
  },
  {
   "cell_type": "code",
   "execution_count": 42,
   "id": "dae8eef0",
   "metadata": {},
   "outputs": [
    {
     "data": {
      "text/plain": [
       "array([[582.09375, 576.5837 , 575.5533 , ..., 577.84595, 575.63574,\n",
       "        579.5585 ],\n",
       "       [584.50885, 578.4734 , 577.7081 , ..., 580.0788 , 578.1516 ,\n",
       "        581.6536 ],\n",
       "       [586.7339 , 580.19543, 579.6632 , ..., 582.13605, 580.48517,\n",
       "        583.5327 ],\n",
       "       ...,\n",
       "       [603.8202 , 592.4524 , 594.50995, ..., 597.92474, 598.7615 ,\n",
       "        597.7684 ],\n",
       "       [605.5536 , 593.64246, 596.0738 , ..., 599.4985 , 600.6068 ,\n",
       "        599.27783],\n",
       "       [607.52563, 594.9719 , 597.8292 , ..., 601.27124, 602.71173,\n",
       "        600.96075]], dtype=float32)"
      ]
     },
     "execution_count": 42,
     "metadata": {},
     "output_type": "execute_result"
    }
   ],
   "source": [
    "predicted"
   ]
  },
  {
   "cell_type": "code",
   "execution_count": 43,
   "id": "d1abba32",
   "metadata": {},
   "outputs": [
    {
     "data": {
      "image/png": "[encoded data removed]",
      "text/plain": [
       "<Figure size 432x288 with 1 Axes>"
      ]
     },
     "metadata": {
      "needs_background": "light"
     },
     "output_type": "display_data"
    }
   ],
   "source": [
    "plot_predictions(test_2, predicted)"
   ]
  },
  {
   "cell_type": "code",
   "execution_count": null,
   "id": "da917138",
   "metadata": {},
   "outputs": [],
   "source": []
  }
 ],
 "metadata": {
  "kernelspec": {
   "display_name": "Python 3",
   "language": "python",
   "name": "python3"
  },
  "language_info": {
   "codemirror_mode": {
    "name": "ipython",
    "version": 3
   },
   "file_extension": ".py",
   "mimetype": "text/x-python",
   "name": "python",
   "nbconvert_exporter": "python",
   "pygments_lexer": "ipython3",
   "version": "3.8.8"
  },
  "toc": {
   "base_numbering": 1,
   "nav_menu": {},
   "number_sections": true,
   "sideBar": true,
   "skip_h1_title": false,
   "title_cell": "Table of Contents",
   "title_sidebar": "Contents",
   "toc_cell": false,
   "toc_position": {},
   "toc_section_display": true,
   "toc_window_display": false
  },
  "varInspector": {
   "cols": {
    "lenName": 16,
    "lenType": 16,
    "lenVar": 40
   },
   "kernels_config": {
    "python": {
     "delete_cmd_postfix": "",
     "delete_cmd_prefix": "del ",
     "library": "var_list.py",
     "varRefreshCmd": "print(var_dic_list())"
    },
    "r": {
     "delete_cmd_postfix": ") ",
     "delete_cmd_prefix": "rm(",
     "library": "var_list.r",
     "varRefreshCmd": "cat(var_dic_list()) "
    }
   },
   "types_to_exclude": [
    "module",
    "function",
    "builtin_function_or_method",
    "instance",
    "_Feature"
   ],
   "window_display": false
  }
 },
 "nbformat": 4,
 "nbformat_minor": 5
}
